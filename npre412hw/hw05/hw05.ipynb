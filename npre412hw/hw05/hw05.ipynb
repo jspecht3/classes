{
 "cells": [
  {
   "cell_type": "code",
   "execution_count": 138,
   "id": "a8f43643-c822-4105-8470-6768d5075ffb",
   "metadata": {},
   "outputs": [],
   "source": [
    "import numpy as np\n",
    "import openmc"
   ]
  },
  {
   "cell_type": "markdown",
   "id": "a4c959d0-392e-4d07-b2eb-e6cb807a69bd",
   "metadata": {
    "jp-MarkdownHeadingCollapsed": true
   },
   "source": [
    "# Question 1"
   ]
  },
  {
   "cell_type": "code",
   "execution_count": 124,
   "id": "740d679a-85a6-4754-a816-7d3a22f02ac8",
   "metadata": {},
   "outputs": [
    {
     "name": "stdout",
     "output_type": "stream",
     "text": [
      "Product Assay: 2.65%\n"
     ]
    }
   ],
   "source": [
    "# data\n",
    "mf = 32_000  # mass feed, kgU/day\n",
    "mt = 26_000  # mass tails, kg tails/day\n",
    "\n",
    "xf = 0.7 / 100  # feed enrichment\n",
    "xt = 0.25 / 100  # tails enrichment\n",
    "\n",
    "# calculations\n",
    "uf = mf * xf  # u mass feed \n",
    "ut = mt * xt  # u mass tails\n",
    "\n",
    "mp = mf - mt  # mass enriched\n",
    "up = uf - ut  # u enriched\n",
    "\n",
    "xp = up / mp  # product enrichment\n",
    "\n",
    "print(f\"Product Assay: {round(xp, 4) * 100}%\")\n",
    "assert(mp * xp + mt * xt == mf * xf)"
   ]
  },
  {
   "cell_type": "markdown",
   "id": "bae10274-ed8f-4ad7-9ae5-cee23eb627c9",
   "metadata": {
    "jp-MarkdownHeadingCollapsed": true
   },
   "source": [
    "# Question 2"
   ]
  },
  {
   "cell_type": "code",
   "execution_count": 46,
   "id": "e506c6b8-ac0c-4ab3-b641-5febfcff6695",
   "metadata": {},
   "outputs": [
    {
     "name": "stdout",
     "output_type": "stream",
     "text": [
      "Tails Mass: 29000 kg\n",
      "Tails Assay: 0.24%\n"
     ]
    }
   ],
   "source": [
    "# data\n",
    "xf = 0.7 / 100\n",
    "xp = 2.9 / 100\n",
    "\n",
    "mf = 35000\n",
    "mp = 6000\n",
    "\n",
    "# calculations\n",
    "# find tail mass and tail enrichment\n",
    "uf = mf * xf\n",
    "up = mp * xp\n",
    "\n",
    "mt = mf - mp\n",
    "ut = uf - up\n",
    "xt = ut / mt\n",
    "\n",
    "print(f\"Tails Mass: {mt} kg\")\n",
    "print(f\"Tails Assay: {round(xt, 4) * 100}%\")\n",
    "\n",
    "assert(ut + up == uf)\n",
    "assert(mt + mp == mf)\n",
    "assert(mp * xp + mt * xt == mf * xf)"
   ]
  },
  {
   "cell_type": "markdown",
   "id": "fdf0ff9a-ce6c-4bb1-9ae5-9888214b5f34",
   "metadata": {
    "jp-MarkdownHeadingCollapsed": true
   },
   "source": [
    "# Question 3"
   ]
  },
  {
   "cell_type": "code",
   "execution_count": 153,
   "id": "b4d82e63-3cdf-46b9-b3c1-fbbbf1461d30",
   "metadata": {},
   "outputs": [
    {
     "name": "stdout",
     "output_type": "stream",
     "text": [
      "Feed Mass: 7.3 kg\n"
     ]
    }
   ],
   "source": [
    "# data\n",
    "m_b10 = openmc.data.atomic_mass(\"B10\")\n",
    "m_b11 = openmc.data.atomic_mass(\"B11\")\n",
    "\n",
    "[(_, xi_b10), (_, xi_b11)] = openmc.data.isotopes(\"B\")\n",
    "\n",
    "def mass_percent(xi1, u1, u2):\n",
    "    m1 = u1 * xi1\n",
    "    xi2 = 1 - xi1\n",
    "    m2 = u2 * xi2\n",
    "\n",
    "    xm1 = m1 / (m1 + m2)\n",
    "    xm2 = m2 / (m1 + m2)\n",
    "    return xm1\n",
    "\n",
    "# calculations\n",
    "xf = 20 / 100 # assuming 20% mass enrichment\n",
    "xp = 90 / 100\n",
    "xt = 8 / 100\n",
    "\n",
    "xf = mass_percent(xf, m_b10, m_b11)\n",
    "xp = mass_percent(xp, m_b10, m_b11)\n",
    "xt = mass_percent(xt, m_b10, m_b11)\n",
    "\n",
    "mp = 1\n",
    "\n",
    "# calculations\n",
    "mf = (xp - xt) / (xf - xt) * mp\n",
    "print(f\"Feed Mass: {round(mf, 2)} kg\")"
   ]
  },
  {
   "cell_type": "markdown",
   "id": "c8f695e8-3392-4bbb-baca-2d0297b0574a",
   "metadata": {},
   "source": [
    "## part b\n",
    "- B10 absorbs a neutron and goes to Li7\n",
    "- Li7 decays into alpha + T\n",
    "\n",
    "## part c\n",
    "- "
   ]
  },
  {
   "cell_type": "markdown",
   "id": "3419a968-8887-44a5-9fce-00e8f6fc04c4",
   "metadata": {
    "jp-MarkdownHeadingCollapsed": true
   },
   "source": [
    "# Question 4"
   ]
  },
  {
   "cell_type": "code",
   "execution_count": 133,
   "id": "40fc4f61-aaf7-46b1-809d-2fd0bf71d004",
   "metadata": {},
   "outputs": [
    {
     "name": "stdout",
     "output_type": "stream",
     "text": [
      "Mass Fuel: 23.63 kg\n"
     ]
    }
   ],
   "source": [
    "# data\n",
    "xh = 90 / 100   # acts like product\n",
    "xd = 0.2 / 100  # acts like waste\n",
    "xf = 4 / 100    # acts like feed\n",
    "\n",
    "# calculations\n",
    "mf = ((xh - xd) / (xf - xd))\n",
    "\n",
    "print(f\"Mass Fuel: {round(mf, 2)} kg\")"
   ]
  },
  {
   "cell_type": "markdown",
   "id": "e501697c-7474-4dd6-9dee-c1441c4205ee",
   "metadata": {
    "jp-MarkdownHeadingCollapsed": true
   },
   "source": [
    "# Question 5"
   ]
  },
  {
   "cell_type": "code",
   "execution_count": 73,
   "id": "dfa89843-6e02-4343-8351-589bfd94c9aa",
   "metadata": {},
   "outputs": [
    {
     "name": "stdout",
     "output_type": "stream",
     "text": [
      "Past U235 Enrichment: 3.05%\n"
     ]
    }
   ],
   "source": [
    "# data\n",
    "x235 = 0.711 / 100\n",
    "x238 = 1 - x_u235\n",
    "\n",
    "# from Q6, ignoring U234, U236\n",
    "th235 = 7.1e8 # years\n",
    "th238 = 4.51e9 # years\n",
    "\n",
    "# decay constants\n",
    "lam235 = np.log(2) / th235\n",
    "lam238 = np.log(2) / th238\n",
    "\n",
    "# past mass\n",
    "time = 1.8e9\n",
    "pm235 = x235 * np.exp(lam235 * time)\n",
    "pm238 = x238 * np.exp(lam238 * time)\n",
    "\n",
    "# past enrichment\n",
    "past_x235 = pm235 / (pm235 + pm238) * 100\n",
    "\n",
    "print(f\"Past U235 Enrichment: {round(past_x235, 2)}%\")"
   ]
  },
  {
   "cell_type": "markdown",
   "id": "c88ed32b-d902-4265-a7c9-c70124ac2d43",
   "metadata": {
    "jp-MarkdownHeadingCollapsed": true
   },
   "source": [
    "# Question 6"
   ]
  },
  {
   "cell_type": "code",
   "execution_count": 137,
   "id": "78d8bf7c-5ac6-4c34-b563-7197439c8f6a",
   "metadata": {},
   "outputs": [
    {
     "name": "stdout",
     "output_type": "stream",
     "text": [
      "Future SWU: 14.09 SWU\n"
     ]
    }
   ],
   "source": [
    "# current enrichments\n",
    "x235 = 0.711 / 100\n",
    "x238 = 1 - x_u235\n",
    "\n",
    "# ignoring U234, U236\n",
    "th235 = 7.1e8 # years\n",
    "th238 = 4.51e9 # years\n",
    "\n",
    "# decay constants\n",
    "lam235 = np.log(2) / th235\n",
    "lam238 = np.log(2) / th238\n",
    "\n",
    "# future mass\n",
    "time = 1e9\n",
    "fm235 = x235 * np.exp(-lam235 * time)\n",
    "fm238 = x238 * np.exp(-lam238 * time)\n",
    "\n",
    "# future enrichments\n",
    "future_x235 = fm235 / (fm235 + fm238)\n",
    "future_x238 = fm238 / (fm235 + fm238)\n",
    "\n",
    "# seperation potential, swu\n",
    "def sep_pot(x):\n",
    "    return (2 * x - 1) * np.log(x / (1 - x))\n",
    "\n",
    "# swu\n",
    "def swu(xf, xp, xw):\n",
    "    p = 1\n",
    "    f = (xp - xw) / (xf - xw)\n",
    "    w = (xp - xf) / (xf - xw)\n",
    "\n",
    "    vp = sep_pot(xp)\n",
    "    vf = sep_pot(xf)\n",
    "    vw = sep_pot(xw)\n",
    "\n",
    "    return 1 * (p * vp + w * vw - f * vf)\n",
    "\n",
    "future_swu = swu(future_x235, xp=4.5/100, xw=0.2/100)\n",
    "print(f\"Future SWU: {round(future_swu, 2)} SWU\")"
   ]
  },
  {
   "cell_type": "markdown",
   "id": "482dcc5a-8a16-47fb-8aea-e6bba31207d6",
   "metadata": {},
   "source": [
    "# Question 7"
   ]
  },
  {
   "cell_type": "markdown",
   "id": "33fdfc63-9818-466d-af8a-9366b4ed65f5",
   "metadata": {},
   "source": [
    "find price of U3O8 where it will cost less to enrich 0.2% U235 tails than mine new uranium"
   ]
  },
  {
   "cell_type": "code",
   "execution_count": 103,
   "id": "843be35b-768a-4f43-a44d-0931163616bb",
   "metadata": {},
   "outputs": [
    {
     "name": "stdout",
     "output_type": "stream",
     "text": [
      "Price Yellowcake: $334.38/lb\n"
     ]
    }
   ],
   "source": [
    "# prices\n",
    "p_swu = 80  # $/SWU\n",
    "p_con = 4  # $/kgU\n",
    "\n",
    "# enrichments\n",
    "xf = 0.711 / 100\n",
    "xp = 3 / 100\n",
    "xw = 0.1 / 100\n",
    "\n",
    "xt = 0.2 / 100\n",
    "\n",
    "# cost of enriching tails\n",
    "swu_tails = swu(xt, xp, xw)\n",
    "c_tails = p_swu * swu_tails\n",
    "\n",
    "# mass fraction of U / U3O8\n",
    "m_u = 238.02891\n",
    "m_o = 15.999\n",
    "\n",
    "mass_frac = (3 * m_u) / (3 * m_u + 8 * m_o)\n",
    "\n",
    "# cost of converting and enriching new U3O8\n",
    "swu_new = swu(xf, xp, xw)\n",
    "\n",
    "#c_new = p_swu * swu_ce + p_u3o8 / mass_frac\n",
    "p_u3o8 = (c_tails - p_swu * swu_ce) * mass_frac  # $/kg\n",
    "p_u3o8 /= 2.2  # kg/lbs\n",
    "\n",
    "print(f\"Price Yellowcake: ${round(p_u3o8, 2)}/lb\")"
   ]
  },
  {
   "cell_type": "markdown",
   "id": "04e2b2b4-edde-470b-b11b-68f284757833",
   "metadata": {},
   "source": [
    "# Question 8"
   ]
  },
  {
   "cell_type": "code",
   "execution_count": 114,
   "id": "db84cbb4-3725-4b70-a407-66d5bf5939d5",
   "metadata": {},
   "outputs": [
    {
     "name": "stdout",
     "output_type": "stream",
     "text": [
      "Mass of Product: 16.092M kg\n"
     ]
    }
   ],
   "source": [
    "# part a\n",
    "m_tails = 7e8\n",
    "\n",
    "# enrichments\n",
    "x_tails = 0.25 / 100\n",
    "x_fuel = 4.5 / 100\n",
    "x_waste = 0.15 / 100\n",
    "\n",
    "# mass of product\n",
    "# tails are feed, fuel is product, waste is waste\n",
    "mp = m_tails / ((x_fuel - x_waste) / (x_tails - x_waste))\n",
    "print(f\"Mass of Product: {round(mp * 1e-6, 3)}M kg\")"
   ]
  },
  {
   "cell_type": "code",
   "execution_count": 154,
   "id": "75c1fc9c-76e3-4a8c-b8b5-bf815eb94ec6",
   "metadata": {},
   "outputs": [
    {
     "name": "stdout",
     "output_type": "stream",
     "text": [
      "Cost per kg: $1521.4/kg\n"
     ]
    }
   ],
   "source": [
    "# part b\n",
    "p_swu = 80\n",
    "swu_tails = swu(x_tails, x_fuel, x_waste)\n",
    "\n",
    "p_fuel = swu_tails * p_swu\n",
    "print(f\"Cost per kg: ${round(p_fuel, 2)}/kg\")"
   ]
  }
 ],
 "metadata": {
  "kernelspec": {
   "display_name": "Python 3 (ipykernel)",
   "language": "python",
   "name": "python3"
  },
  "language_info": {
   "codemirror_mode": {
    "name": "ipython",
    "version": 3
   },
   "file_extension": ".py",
   "mimetype": "text/x-python",
   "name": "python",
   "nbconvert_exporter": "python",
   "pygments_lexer": "ipython3",
   "version": "3.12.7"
  }
 },
 "nbformat": 4,
 "nbformat_minor": 5
}
