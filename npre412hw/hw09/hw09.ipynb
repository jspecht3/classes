{
 "cells": [
  {
   "cell_type": "code",
   "execution_count": 1,
   "id": "1ca91316-6197-425f-8e6f-c5bd36bc16ac",
   "metadata": {},
   "outputs": [],
   "source": [
    "import numpy as np"
   ]
  },
  {
   "cell_type": "markdown",
   "id": "0896baee-cc7f-4b59-82c2-c212deb83fb2",
   "metadata": {},
   "source": [
    "# Question 1"
   ]
  },
  {
   "cell_type": "code",
   "execution_count": 16,
   "id": "675aa7f8-60fb-4f9a-b7cf-ae4b4dd6780b",
   "metadata": {},
   "outputs": [
    {
     "name": "stdout",
     "output_type": "stream",
     "text": [
      "Question 1: 0.815%\n"
     ]
    }
   ],
   "source": [
    "# givens\n",
    "bu = 45e3 # MWd/tU\n",
    "\n",
    "xp = 3.2e-2\n",
    "xf = 0.71e-2\n",
    "xw = 0.28e-2\n",
    "\n",
    "\n",
    "# functions\n",
    "def feed_factor(xp, xf, xw):\n",
    "    return (xp - xw) / (xf - xw)\n",
    "\n",
    "\n",
    "def uu_lwr_ot(bu, xp=xp, xf=xf, xw=xw):\n",
    "    ff = feed_factor(xp, xf, xw)\n",
    "    ur = mf_over_ml(bu)\n",
    "    return ur / ff\n",
    "\n",
    "\n",
    "def mf_over_ml(bu):\n",
    "    # bu * g/MWd * tMW/g\n",
    "    m_ratio = bu * 1.23 * 1e-6\n",
    "    return m_ratio\n",
    "\n",
    "\n",
    "# calcs\n",
    "uu1 = uu_lwr_ot(bu)\n",
    "print(f\"Question 1: {round(uu1 * 100, 3)}%\")"
   ]
  },
  {
   "cell_type": "markdown",
   "id": "c0f57e72-2693-46b5-85e9-9f035a56dadb",
   "metadata": {},
   "source": [
    "# Question 2"
   ]
  },
  {
   "cell_type": "code",
   "execution_count": 17,
   "id": "43d79f30-1d80-4ccf-b340-7d157e61d4dd",
   "metadata": {},
   "outputs": [
    {
     "name": "stdout",
     "output_type": "stream",
     "text": [
      "Question 2: 74.55248%\n"
     ]
    }
   ],
   "source": [
    "gamma = 0.02\n",
    "\n",
    "\n",
    "# functions\n",
    "def breeder_uu(bu, gamma):\n",
    "    mr = mf_over_ml(bu)\n",
    "    return mr / (mr * (1 - gamma) + gamma)\n",
    "\n",
    "\n",
    "# calcs\n",
    "uu2 = breeder_uu(bu, gamma)\n",
    "print(f\"Question 2: {round(uu2 * 100, 5)}%\")"
   ]
  }
 ],
 "metadata": {
  "kernelspec": {
   "display_name": "Python 3 (ipykernel)",
   "language": "python",
   "name": "python3"
  },
  "language_info": {
   "codemirror_mode": {
    "name": "ipython",
    "version": 3
   },
   "file_extension": ".py",
   "mimetype": "text/x-python",
   "name": "python",
   "nbconvert_exporter": "python",
   "pygments_lexer": "ipython3",
   "version": "3.12.7"
  }
 },
 "nbformat": 4,
 "nbformat_minor": 5
}
