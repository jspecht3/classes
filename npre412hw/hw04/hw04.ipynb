{
 "cells": [
  {
   "cell_type": "code",
   "execution_count": 1,
   "id": "e1d59745-56f2-47fd-9ff3-8732342105dc",
   "metadata": {},
   "outputs": [],
   "source": [
    "import numpy as np\n",
    "import matplotlib.pyplot as plt\n",
    "import openmc"
   ]
  },
  {
   "cell_type": "markdown",
   "id": "b4f86420-5072-4c4a-a748-f47ec54219ea",
   "metadata": {},
   "source": [
    "# Question 2"
   ]
  },
  {
   "cell_type": "markdown",
   "id": "adf60c13-7ce2-4c82-a9d1-a2a8ce07f94c",
   "metadata": {},
   "source": [
    "## part a"
   ]
  },
  {
   "cell_type": "code",
   "execution_count": 135,
   "id": "fdcedfc8-3bd8-42b6-b4e7-a1e73751a25c",
   "metadata": {},
   "outputs": [],
   "source": [
    "yearly_req = 10_000 # tons of U3O8\n",
    "reserves = 600_000 # tons of U3O8 at $130/kgU\n",
    "\n",
    "\n",
    "def yte_f(x):\n",
    "    \"\"\"years to exhause the U reserves\"\"\"\n",
    "    x /= 100\n",
    "    num = np.log(reserves / yearly_req * np.log(1 + x) + 1)\n",
    "    den = np.log(1 + x)\n",
    "    \n",
    "    print(f\"{x * 100}%, w/ {round(num / den, 2)} yte\")\n",
    "    return num / den"
   ]
  },
  {
   "cell_type": "markdown",
   "id": "594a6d3a-f2dd-4d50-8358-d96f99a6ea6a",
   "metadata": {},
   "source": [
    "## part b"
   ]
  },
  {
   "cell_type": "code",
   "execution_count": 136,
   "id": "a39165b5-d1ed-4f86-8389-f5a5774d5236",
   "metadata": {},
   "outputs": [
    {
     "name": "stdout",
     "output_type": "stream",
     "text": [
      "1e-09%, w/ 60.0 yte\n",
      "2.0%, w/ 39.54 yte\n",
      "4.0%, w/ 30.85 yte\n",
      "6.0%, w/ 25.8 yte\n",
      "in the lim x -> 0, y = R/P\n"
     ]
    }
   ],
   "source": [
    "xs = [0.000000001, 2, 4, 6]\n",
    "\n",
    "for x in xs:\n",
    "    yte_f(x)\n",
    "\n",
    "print(\"in the lim x -> 0, y = R/P\")"
   ]
  },
  {
   "cell_type": "markdown",
   "id": "2be028c7-062e-40df-b3fe-f8f1fed9bd1b",
   "metadata": {
    "jp-MarkdownHeadingCollapsed": true
   },
   "source": [
    "# Question 3"
   ]
  },
  {
   "cell_type": "markdown",
   "id": "e11c971d-7c2a-4c3a-bbb9-37d3d73523bf",
   "metadata": {},
   "source": [
    "## Question\n",
    "- linear increase in reactors/year from 1990 to 2030\n",
    "- total reserves of 2.3M tons\n",
    "\n",
    "## Assumptions\n",
    "- each plant takes 150 tons per year to power\n",
    "- each plant takes 10 years to make\n",
    "- each plant has a 30 year lifetime\n",
    "- 120 plants operating in 1990\n",
    "- reactors operating in 1990 start retiring in 2000 at a rate of 10/year\n",
    "- consider existing reactors only after 1990"
   ]
  },
  {
   "cell_type": "code",
   "execution_count": 116,
   "id": "757287ec-b522-4ca5-a21e-ef098eceee81",
   "metadata": {},
   "outputs": [
    {
     "name": "stdout",
     "output_type": "stream",
     "text": [
      "reactors 29\n",
      "max 870\n"
     ]
    }
   ],
   "source": [
    "res = 2.3e6 # total reserves\n",
    "upr = 150 # uranium per reactor\n",
    "ris = 120 # reactors in 1990\n",
    "\n",
    "rys = res / upr # reactor years\n",
    "rys -= 10 * 120 # for first 10 years\n",
    "rys -= 110 * 6 + 10 * 12\n",
    "\n",
    "for x in range(0, 1000):\n",
    "    ry = 0\n",
    "    for n in range(1, 31):\n",
    "        ry += x * n\n",
    "    ry -= x\n",
    "\n",
    "    if ry > rys:\n",
    "        print(f\"reactors {x}\")\n",
    "        print(f\"max {x * 30}\")\n",
    "        break"
   ]
  },
  {
   "cell_type": "markdown",
   "id": "bf941f5f-512b-449a-9a5c-6ac69d571a97",
   "metadata": {
    "jp-MarkdownHeadingCollapsed": true
   },
   "source": [
    "# Question 4"
   ]
  },
  {
   "cell_type": "code",
   "execution_count": 117,
   "id": "56e03d0c-d316-47fa-9372-f1251f4c6108",
   "metadata": {},
   "outputs": [],
   "source": [
    "# pCi/L\n",
    "avg = 1.2e3\n",
    "maximum = 4.3e3\n",
    "eff = .7"
   ]
  },
  {
   "cell_type": "markdown",
   "id": "6862e911-eb05-4d63-b525-8457fef239ad",
   "metadata": {},
   "source": [
    "## part a"
   ]
  },
  {
   "cell_type": "code",
   "execution_count": 118,
   "id": "1ad5463f-f942-4d7a-bfc6-aea0df8901e2",
   "metadata": {},
   "outputs": [
    {
     "name": "stdout",
     "output_type": "stream",
     "text": [
      "WL: 12.0 wl\n"
     ]
    }
   ],
   "source": [
    "wl = avg / 100\n",
    "print(f\"WL: {round(wl,2)} wl\")"
   ]
  },
  {
   "cell_type": "markdown",
   "id": "1beb81c8-4425-4355-8d44-86ccc49b31f4",
   "metadata": {},
   "source": [
    "## part b"
   ]
  },
  {
   "cell_type": "code",
   "execution_count": 123,
   "id": "6dd178da-7da7-46d8-89b4-8a73025da0c9",
   "metadata": {},
   "outputs": [
    {
     "name": "stdout",
     "output_type": "stream",
     "text": [
      "Annual WLM 100.8\n"
     ]
    }
   ],
   "source": [
    "time = 40 * 4.25 * .7\n",
    "wlm = wl * (time / 170)\n",
    "\n",
    "print(f\"Annual WLM {round(wlm * 12, 2)}\")"
   ]
  },
  {
   "cell_type": "markdown",
   "id": "03390c86-c566-46b6-aa15-ff3e6619a65e",
   "metadata": {
    "jp-MarkdownHeadingCollapsed": true
   },
   "source": [
    "# Question 5"
   ]
  },
  {
   "cell_type": "markdown",
   "id": "599e9a21-0622-4a27-9af0-22a84ae3aecd",
   "metadata": {},
   "source": [
    "Cacluate Q for the 4 most likely alpha decays in the radon chain"
   ]
  },
  {
   "cell_type": "markdown",
   "id": "b3858b7a-9a9a-47ff-bf6c-017191aa41fb",
   "metadata": {},
   "source": [
    "Most likely decays\n",
    "1. Rn222, 100%\n",
    "2. Po218, 99.98%\n",
    "3. Po214, (100 - 0.021)%\n",
    "4. Po210, ~100%\n",
    "\n",
    "Unlikely ones\n",
    "1. Bi214, 0.021%\n",
    "2. Pb210, 1.9e-6%\n",
    "3. Bi210, 13.2e-5%"
   ]
  },
  {
   "cell_type": "code",
   "execution_count": 137,
   "id": "92883710-93a4-4b5d-ab12-23d517bacd5e",
   "metadata": {},
   "outputs": [
    {
     "name": "stdout",
     "output_type": "stream",
     "text": [
      "Q for $\\alpha$ decay from Rn222 -> Po218: 5.5904241424 MeV\n",
      "Q for $\\alpha$ decay from Po218 -> Pb214: 6.1147934374 MeV\n",
      "Q for $\\alpha$ decay from Po214 -> Pb210: 7.8335907169 MeV\n",
      "Q for $\\alpha$ decay from Po210 -> Pb206: 5.4075641719 MeV\n"
     ]
    }
   ],
   "source": [
    "def q_rxn(p, d):\n",
    "    mp = openmc.data.atomic_mass(p)\n",
    "    md = openmc.data.atomic_mass(d)\n",
    "    m_alpha = openmc.data.atomic_mass(\"He4\")\n",
    "\n",
    "    return (mp - md - m_alpha) * 931.5 # amu * MeV/amu\n",
    "\n",
    "\n",
    "# names\n",
    "ps = [\"Rn222\", \"Po218\", \"Po214\", \"Po210\"]\n",
    "ds = [\"Po218\", \"Pb214\", \"Pb210\", \"Pb206\"]\n",
    "qs = []\n",
    "\n",
    "for p, d in zip(ps, ds):\n",
    "    qs.append(q_rxn(p, d))\n",
    "\n",
    "for i in range(len(ps)):\n",
    "    print(f\"Q for $\\\\alpha$ decay from {ps[i]} -> {ds[i]}: {round(qs[i], 10)} MeV\")"
   ]
  }
 ],
 "metadata": {
  "kernelspec": {
   "display_name": "Python 3 (ipykernel)",
   "language": "python",
   "name": "python3"
  },
  "language_info": {
   "codemirror_mode": {
    "name": "ipython",
    "version": 3
   },
   "file_extension": ".py",
   "mimetype": "text/x-python",
   "name": "python",
   "nbconvert_exporter": "python",
   "pygments_lexer": "ipython3",
   "version": "3.12.7"
  }
 },
 "nbformat": 4,
 "nbformat_minor": 5
}
