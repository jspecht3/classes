{
 "cells": [
  {
   "cell_type": "code",
   "execution_count": 123,
   "id": "ae4177c5-3938-4b6a-8910-8f145b632872",
   "metadata": {},
   "outputs": [],
   "source": [
    "import numpy as np\n",
    "import matplotlib.pyplot as plt\n",
    "import pandas as pd\n",
    "\n",
    "# vars\n",
    "end = \" \\\\\\\\\"\n",
    "\n",
    "# functions\n",
    "def lround(l, ndigits=2):\n",
    "    \"rounds all the elements in a list\"\n",
    "    l2 = []\n",
    "    for element in l:\n",
    "        l2.append(round(element, ndigits))\n",
    "    return l2\n",
    "\n",
    "def llround(ll, ndigits=2):\n",
    "    \"rounds all elements in a list of lists\"\n",
    "    ll2 = []\n",
    "    for l in ll:\n",
    "        ll2.append(lround(l, ndigits))\n",
    "    return ll2\n",
    "\n",
    "def int_m(p, m, i=i):\n",
    "    return p * (1 + i)**m\n",
    "\n",
    "def F_func(F, i, N):\n",
    "    return F * (1 + i)**N"
   ]
  },
  {
   "cell_type": "markdown",
   "id": "87e07c75-57d8-486c-b7e9-171da8472aa2",
   "metadata": {},
   "source": [
    "# Question 1"
   ]
  },
  {
   "cell_type": "code",
   "execution_count": 194,
   "id": "8b149377-94b3-4c84-972e-f7b7b327f4ee",
   "metadata": {},
   "outputs": [],
   "source": [
    "# data\n",
    "expenditures = [120, 200, 280, 245, 230, 220, 200, 115, 110, 110, 85, 85, 85]\n",
    "\n",
    "debt_ratio = .51\n",
    "stock_return = .11\n",
    "bond_interest = 0.085\n",
    "corporate_tax = .40"
   ]
  },
  {
   "cell_type": "markdown",
   "id": "6fae8c0f-00b0-4e6e-8de2-5985a8648f5c",
   "metadata": {},
   "source": [
    "## Part A\n",
    "What is the total cost of the plant at the time it begins operating?"
   ]
  },
  {
   "cell_type": "code",
   "execution_count": 218,
   "id": "f7748e40-0d4f-48ed-a799-8e066efbcf53",
   "metadata": {},
   "outputs": [
    {
     "name": "stdout",
     "output_type": "stream",
     "text": [
      "Total Cost: $3139.57M\n"
     ]
    }
   ],
   "source": [
    "# 8.30\n",
    "x = (1 - debt_ratio) * stock_return + debt_ratio * bond_interest * (1 - corporate_tax)\n",
    "\n",
    "debts = []\n",
    "for ybo in range(len(expenditures)):\n",
    "    debt = expenditures[ybo]\n",
    "    owed = F_func(debt, x, ybo)\n",
    "    debts.append(owed)\n",
    "\n",
    "total = np.sum(debts)\n",
    "print(f\"Total Cost: ${round(total, 2)}M\")"
   ]
  },
  {
   "cell_type": "markdown",
   "id": "ebd55b0f-ea7b-4550-b80e-6cf5d58c36ec",
   "metadata": {},
   "source": [
    "## Part B\n",
    "If the utility decides to repay this amount by assigning 30 equal payments over the life of the plant, what should the amount of each payment be?\n",
    "- corporate taxes happen after paying bondholder interest, but before stockholder return"
   ]
  },
  {
   "cell_type": "code",
   "execution_count": 221,
   "id": "851edbc6-cbe4-4669-9815-f45bad213733",
   "metadata": {},
   "outputs": [
    {
     "name": "stdout",
     "output_type": "stream",
     "text": [
      "Payment: $278.64M\n"
     ]
    }
   ],
   "source": [
    "def amoritization(F=F, N=N, i=i):\n",
    "    \"\"\"returns the payments over N years\"\"\"\n",
    "    return (i * (1 + i)**N) / ((1 + i)**N - 1) * F\n",
    "\n",
    "payment = amoritization(total, 30, x)\n",
    "print(f\"Payment: ${round(payment, 2)}M\")"
   ]
  },
  {
   "cell_type": "markdown",
   "id": "7426e543-23bc-40c7-ab39-5670f67c0a61",
   "metadata": {
    "jp-MarkdownHeadingCollapsed": true
   },
   "source": [
    "# Question 2"
   ]
  },
  {
   "cell_type": "markdown",
   "id": "2ffb61ae-ed39-46c1-b945-3ae87a1feafd",
   "metadata": {},
   "source": [
    "- How much did they borrow each year for the 15 years if the final cost was $4B?\n",
    "- Assume: borrowed the same amount each year"
   ]
  },
  {
   "cell_type": "code",
   "execution_count": 181,
   "id": "f7056440-18c8-4f1b-b83a-a18878900afa",
   "metadata": {},
   "outputs": [
    {
     "name": "stdout",
     "output_type": "stream",
     "text": [
      "Borrowed $107.297M/year\n"
     ]
    }
   ],
   "source": [
    "# data\n",
    "F = 4e3\n",
    "N = 15\n",
    "i = .12\n",
    "\n",
    "# calculating\n",
    "total_rate = 0\n",
    "for n in range(0, N):\n",
    "    total_rate += (1 + i)**n\n",
    "\n",
    "borrowed = round(F / total_rate, 3)\n",
    "print(f\"Borrowed ${borrowed}M/year\")"
   ]
  },
  {
   "cell_type": "markdown",
   "id": "df8eaca6-42dd-48d8-b68a-8f1220d69db3",
   "metadata": {
    "jp-MarkdownHeadingCollapsed": true
   },
   "source": [
    "# Question 3"
   ]
  },
  {
   "cell_type": "markdown",
   "id": "3a43f139-0e09-4095-ae73-e3ea6aa0b75b",
   "metadata": {},
   "source": [
    "- Calculate the cost of 1kg of U-fabricated fuel at the time the fuel goes into the core"
   ]
  },
  {
   "cell_type": "code",
   "execution_count": 180,
   "id": "a8548582-4080-4cdd-9985-20b6c19ef09d",
   "metadata": {},
   "outputs": [
    {
     "data": {
      "text/plain": [
       "(4095.659770825803, 24721.969486350503)"
      ]
     },
     "execution_count": 180,
     "metadata": {},
     "output_type": "execute_result"
    }
   ],
   "source": [
    "# givens\n",
    "# monthly interest\n",
    "i = .125\n",
    "\n",
    "# masses\n",
    "m_u = 238.02891\n",
    "m_o = 8\n",
    "\n",
    "m_u3o8 = 3 * m_u + 8 * m_o\n",
    "mass_ratio = m_u3o8 / (3 * m_u)\n",
    "\n",
    "# costs\n",
    "cr = 60 * 2.2 * mass_ratio # $/lb*yellowcake * lbs/kg * yellowcake/U\n",
    "cc = 10 # $ / kg U\n",
    "ce = 500 # $ / kg\n",
    "cf = 220 # $ / kg\n",
    "\n",
    "# losses\n",
    "lc = 0.005 # percent\n",
    "le = 4.871 # percent\n",
    "lf = 0.008 # percent\n",
    "\n",
    "# months\n",
    "tr = 24\n",
    "tc = 15\n",
    "te = 10\n",
    "tf = 3\n",
    "\n",
    "# calculations\n",
    "# masses\n",
    "mf = 1\n",
    "me = mf * (1 + lf)\n",
    "mc = me * (1 + le)\n",
    "mr = mc * (1 + lc)\n",
    "\n",
    "# past prices\n",
    "ppr = cr * mr\n",
    "ppc = cc * mr\n",
    "ppe = ce * mc\n",
    "ppf = cf * me\n",
    "\n",
    "# future prices\n",
    "fpr = int_m(ppr, tr)\n",
    "fpc = int_m(ppc, tc)\n",
    "fpe = int_m(ppe, te)\n",
    "fpf = int_m(ppf, tf)\n",
    "\n",
    "#print(fpf)\n",
    "total_p = np.sum([ppf, ppe, ppc, ppr])\n",
    "total_f = np.sum([fpf, fpe, fpc, fpr])\n",
    "\n",
    "total_p, total_f"
   ]
  },
  {
   "cell_type": "code",
   "execution_count": 179,
   "id": "575cf271-397d-4a43-a53c-fa9a1e718dd8",
   "metadata": {},
   "outputs": [
    {
     "name": "stdout",
     "output_type": "stream",
     "text": [
      "\\begin{tabular}{lrrrrr}\n",
      "\\toprule\n",
      "{\\bf $x$} & {\\bf $c_x$ [$\\frac{\\$}{kg \\cdot U}$]} & {\\bf $l_x$ [\\%]} & {\\bf $m_x$ [kg]} & {\\bf $t_x$ [mos.]} & {\\bf $pw_x$ [\\$]} & {\\bf $fw_x$ [\\$]} \\\\\n",
      "\\midrule\n",
      "Yellow Cake & 143.83 & n/a & 5.9476 & 24 & 855.44 & 14449.41 \\\\\n",
      "Natural UF$_6$ & 10 & 0.5 & 5.918 & 15 & 59.48 & 348.04 \\\\\n",
      "Enriched UF$_6$ & 500 & 487.1 & 1.008 & 10 & 2958.98 & 9608.77 \\\\\n",
      "Fabricated Fuel & 220 & 0.8 & 1 & 3 & 221.76 & 315.75 \\\\\n",
      "\\bottomrule\n",
      "\\end{tabular}\n"
     ]
    }
   ],
   "source": [
    "# pre-printing\n",
    "names = [\"Yellow Cake\", \"Natural UF$_6$\", \"Enriched UF$_6$\", \"Fabricated Fuel\"]\n",
    "cpm = lround([cr, cc, ce, cf], 2)\n",
    "losses = [\"n/a\", lc, le, lf]\n",
    "masses = lround([mr, mc, me, mf], 4)\n",
    "months = [tr, tc, te, tf]\n",
    "past_prices = lround([ppr, ppc, ppe, ppf])\n",
    "present_prices = lround([fpr, fpc, fpe, fpf])\n",
    "\n",
    "for i in range(len(losses)):\n",
    "    if type(losses[i]) is not float:\n",
    "        continue\n",
    "    losses[i] *= 100\n",
    "\n",
    "# printing\n",
    "print(\"\\\\begin{tabular}{lrrrrr}\")\n",
    "print(\"\\\\toprule\")\n",
    "print(\"{\\\\bf $x$} & {\\\\bf $c_x$ [$\\\\frac{\\\\$}{kg \\\\cdot U}$]} & {\\\\bf $l_x$ [\\\\%]} & {\\\\bf $m_x$ [kg]} & {\\\\bf $t_x$ [mos.]} & {\\\\bf $pw_x$ [\\\\$]} & {\\\\bf $fw_x$ [\\\\$]}\" + end + \"\\n\\\\midrule\")\n",
    "for name, cost, loss, mass, month, past_price, present_price in zip(names, cpm, losses, masses, months, past_prices, present_prices):\n",
    "    print(f\"{name} & {cost} & {loss} & {mass} & {month} & {past_price} & {present_price}\" + end)\n",
    "print(\"\\\\bottomrule\")\n",
    "print(\"\\\\end{tabular}\")"
   ]
  }
 ],
 "metadata": {
  "kernelspec": {
   "display_name": "Python 3 (ipykernel)",
   "language": "python",
   "name": "python3"
  },
  "language_info": {
   "codemirror_mode": {
    "name": "ipython",
    "version": 3
   },
   "file_extension": ".py",
   "mimetype": "text/x-python",
   "name": "python",
   "nbconvert_exporter": "python",
   "pygments_lexer": "ipython3",
   "version": "3.12.7"
  }
 },
 "nbformat": 4,
 "nbformat_minor": 5
}
