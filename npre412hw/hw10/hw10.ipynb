{
 "cells": [
  {
   "cell_type": "code",
   "execution_count": 1,
   "id": "b7b4b8a5-e8fc-4a47-948b-7d08047777ee",
   "metadata": {},
   "outputs": [],
   "source": [
    "import numpy as np"
   ]
  },
  {
   "cell_type": "markdown",
   "id": "81f0249d-7d61-41c6-8dbc-c71072056ca3",
   "metadata": {},
   "source": [
    "# Question 1"
   ]
  },
  {
   "cell_type": "code",
   "execution_count": 7,
   "id": "45df60fe-93f9-4146-a046-cc75ac8ed9cb",
   "metadata": {},
   "outputs": [
    {
     "name": "stdout",
     "output_type": "stream",
     "text": [
      "Question 1: Fuel Savings is 36.0%\n"
     ]
    }
   ],
   "source": [
    "# givens\n",
    "xp = 3e-2\n",
    "xw = 0.22e-2\n",
    "xf = 0.711e-2\n",
    "xs = 0.78e-2\n",
    "\n",
    "s = 6.9e-3  # kgPu / kgSNF\n",
    "u = 0.9  # recovered / fresh\n",
    "p = 0.8  # Pu-U235 equivalence\n",
    "\n",
    "\n",
    "# functions\n",
    "def feed_factor(xp, xf, xw):\n",
    "    \"\"\"3.6 from the book\"\"\"\n",
    "    return (xp - xw) / (xf - xw)\n",
    "\n",
    "\n",
    "def u_savings(u=u, s=s, p=p, xp=xp, xf=xf, xw=xw, xs=xs):\n",
    "    \"\"\"7.12 from the book\"\"\"\n",
    "    t1 = (u * s * p) / (xp - xw)\n",
    "    t2 = (u * (xs - xw)) / (xp - xw)\n",
    "    return t1 + t2\n",
    "\n",
    "# calcs\n",
    "us = u_savings()\n",
    "print(f\"Question 1: Fuel Savings is {us * 100}%\")"
   ]
  },
  {
   "cell_type": "markdown",
   "id": "c665f8a3-cccd-4e97-b3fb-66d9eee4e205",
   "metadata": {},
   "source": [
    "# Question 2"
   ]
  },
  {
   "cell_type": "code",
   "execution_count": 12,
   "id": "a81a54c0-9439-41dd-b897-aa804eb1f106",
   "metadata": {},
   "outputs": [
    {
     "name": "stdout",
     "output_type": "stream",
     "text": [
      "Question 2: SWU saved = 19.475%\n"
     ]
    }
   ],
   "source": [
    "# functions\n",
    "def seperation_potential(x):\n",
    "    \"\"\"3.10 from the book\"\"\"\n",
    "    return (2 * x - 1) * np.log(x / (1 - x))\n",
    "\n",
    "\n",
    "def swu_factor(xp=xp, xf=xf, xw=xw):\n",
    "    \"\"\"3.11 from the book\"\"\"\n",
    "    fp = (xp - xw) / (xf - xw)\n",
    "    wp = fp - 1\n",
    "\n",
    "    vp = seperation_potential(xp)\n",
    "    vf = seperation_potential(xf)\n",
    "    vw = seperation_potential(xw)\n",
    "\n",
    "    return vp + (wp * vw) - (fp * vf)\n",
    "\n",
    "\n",
    "def swu_saved(u=u, s=s, p=p, xp=xp, xf=xf, xw=xw, xs=xs):\n",
    "    \"\"\"7.16 from the book\"\"\"\n",
    "    sf = swu_factor()\n",
    "    sfs = swu_factor(xf=xs)\n",
    "    \n",
    "    coeff = u / (xp - xw)\n",
    "    t1 = s * p\n",
    "    t2 = (xs - xw) * (1 - sfs/sf)\n",
    "    return coeff * (t1 + t2)\n",
    "\n",
    "\n",
    "# calcs\n",
    "ss = swu_saved()\n",
    "print(f\"Question 2: SWU saved = {round(ss * 100, 3)}%\")"
   ]
  }
 ],
 "metadata": {
  "kernelspec": {
   "display_name": "Python 3 (ipykernel)",
   "language": "python",
   "name": "python3"
  },
  "language_info": {
   "codemirror_mode": {
    "name": "ipython",
    "version": 3
   },
   "file_extension": ".py",
   "mimetype": "text/x-python",
   "name": "python",
   "nbconvert_exporter": "python",
   "pygments_lexer": "ipython3",
   "version": "3.12.7"
  }
 },
 "nbformat": 4,
 "nbformat_minor": 5
}
