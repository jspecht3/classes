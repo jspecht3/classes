{
 "cells": [
  {
   "cell_type": "code",
   "execution_count": 14,
   "id": "9c817ecf-a629-45c1-94d9-e0e55001aab2",
   "metadata": {},
   "outputs": [],
   "source": [
    "import numpy as np\n",
    "import matplotlib.pyplot as plt"
   ]
  },
  {
   "cell_type": "markdown",
   "id": "00c2f45d-0035-4c36-ac34-43a61cb4842e",
   "metadata": {
    "jp-MarkdownHeadingCollapsed": true
   },
   "source": [
    "# question 1"
   ]
  },
  {
   "cell_type": "code",
   "execution_count": 38,
   "id": "6824f60d-e38c-45e9-b2d2-fc00c44bd5a2",
   "metadata": {},
   "outputs": [
    {
     "name": "stdout",
     "output_type": "stream",
     "text": [
      "Toxicity of Tc: 5.68e+04 m^3\n",
      "Toxicity of Cs: 1.44e+06 m^3\n",
      "Cs is 2.5e+01 times more dangerous than Tc\n"
     ]
    }
   ],
   "source": [
    "m_tc = 1  # g\n",
    "m_cs = 1e-3  # g\n",
    "\n",
    "dac_tc = 3e-7  # uCi / cc\n",
    "dac_cs = 6e-8  # uCi / cc\n",
    "\n",
    "\n",
    "uCi_to_Bq = 37e3\n",
    "\n",
    "sa_tc = 630e6 / uCi_to_Bq  # uCi/g\n",
    "sa_cs = 3.2e12 / uCi_to_Bq  # uCi/g\n",
    "\n",
    "a_tc = sa_tc * m_tc\n",
    "a_cs = sa_cs * m_cs\n",
    "\n",
    "\n",
    "tox_tc = a_tc / dac_tc * 1e-6\n",
    "tox_cs = a_cs / dac_cs * 1e-6\n",
    "\n",
    "print(f\"Toxicity of Tc: {tox_tc:.2e} m^3\")\n",
    "print(f\"Toxicity of Cs: {tox_cs:.2e} m^3\")\n",
    "print(f\"Cs is {(tox_cs / tox_tc):.1e} times more dangerous than Tc\")"
   ]
  },
  {
   "cell_type": "markdown",
   "id": "a89d2592-3ca8-43a6-82bb-a7f7b1700418",
   "metadata": {
    "jp-MarkdownHeadingCollapsed": true
   },
   "source": [
    "# question 2"
   ]
  },
  {
   "cell_type": "markdown",
   "id": "3c1513c7-2f88-442e-9cc7-57c5524f6d68",
   "metadata": {},
   "source": [
    "a. LLW\n",
    "\n",
    "b. HLW\n",
    "\n",
    "c. LLW\n",
    "\n",
    "d. trick question, millings have their own classification. If I had to choose one of these, I would choose TRU.\n",
    "\n",
    "e. TRU"
   ]
  },
  {
   "cell_type": "markdown",
   "id": "c1340de7-32a3-4e56-a43f-00f76e5f2ea7",
   "metadata": {
    "jp-MarkdownHeadingCollapsed": true
   },
   "source": [
    "# question 3"
   ]
  },
  {
   "cell_type": "markdown",
   "id": "276ee307-01b2-43b4-a88e-f9afd31bcca9",
   "metadata": {},
   "source": [
    "a) Space-crafts costs too much\n",
    "\n",
    "b) Outlawed by Congress (MPRSA), not enough research\n",
    "\n",
    "c) Limited retrivability, uncertainty in ice-cap movement\n",
    "\n",
    "d) Unpredictable tropical weather, lack of infastructure, transportation costs, pirates"
   ]
  },
  {
   "cell_type": "markdown",
   "id": "1034d5ad-0793-4646-aa1d-29e3f0321eda",
   "metadata": {},
   "source": [
    "# question 4"
   ]
  },
  {
   "cell_type": "markdown",
   "id": "13f86c27-d1fd-4fbe-a151-22a12daf1daf",
   "metadata": {},
   "source": [
    "a) salt, tuff, granite\n",
    "\n",
    "b) drift wall, drip shield, glass/ceramic waste package, gamma shield (lead), impact limiter, neutron shield (concrete), shear pads, shield plug, closure lid\n",
    "\n",
    "c) "
   ]
  },
  {
   "cell_type": "markdown",
   "id": "d6ef6502-d97a-4d69-9bc6-c874c8e8173b",
   "metadata": {
    "jp-MarkdownHeadingCollapsed": true
   },
   "source": [
    "# question 5"
   ]
  },
  {
   "cell_type": "code",
   "execution_count": 19,
   "id": "d0111678-f0bf-498b-b103-996df8d55a17",
   "metadata": {},
   "outputs": [],
   "source": [
    "alphas = [\n",
    "    5.28e-4, 6.8588e-1, 4.0752e-1, 2.1913e-1, 5.7701e-2,\n",
    "    2.253e-2, 3.3392e-3, 9.36667e-4, 8.0899e-4, 1.9572e-4,\n",
    "    3.2609e-5, 7.5821e-6, 2.5189e-6, 4.9836e-7, 1.8523e-7,\n",
    "    2.659e-8, 2.2356e-9, 8.9582e-12, 8.5968e-11, 2.1072e-14,\n",
    "    7.1219e-16, 8.1126e-17, 9.4678e-17\n",
    "]\n",
    "\n",
    "lambdas = [\n",
    "    2.7216e0, 1.0256e0, 3.1419e-1, 1.1788e-1, 3.4365e-2,\n",
    "    1.1762e-2, 3.6065e-3, 1.3963e-3, 6.2608e-4, 1.8924e-4,\n",
    "    5.5074e-5, 2.0971e-5, 9.994e-6, 2.5401e-6, 6.6332e-7,\n",
    "    1.2281e-7, 2.7163e-8, 3.2955e-9, 7.4225e-10, 2.4681e-10,\n",
    "    1.5596e-13, 2.2573e-14, 2.0503e-14\n",
    "]\n",
    "\n",
    "def F_tT(t, T=np.inf):\n",
    "    to_return = 0\n",
    "    \n",
    "    for alpha, lam in zip(alphas, lambdas):\n",
    "        to_return += alpha / lam * np.exp( -lam * t) * (1 - np.exp( -lam * T))\n",
    "\n",
    "    return to_return"
   ]
  },
  {
   "cell_type": "code",
   "execution_count": 22,
   "id": "6ad75183-7a7f-4a2e-9633-fe16233f8f71",
   "metadata": {},
   "outputs": [
    {
     "name": "stdout",
     "output_type": "stream",
     "text": [
      "Power 20 min after shutdown: 54.13 MW_th\n"
     ]
    }
   ],
   "source": [
    "T = 2.592e7\n",
    "t = 1200\n",
    "\n",
    "P0 = 1050 / 0.33\n",
    "Q = 203\n",
    "\n",
    "P_f = P0 / Q * (F_tT(t) - F_tT(t + T))\n",
    "print(f\"Power 20 min after shutdown: {round(P_f, 3)} MW_th\")"
   ]
  },
  {
   "cell_type": "markdown",
   "id": "1965a6e9-2e59-45d9-a37c-da0b25319f7e",
   "metadata": {
    "jp-MarkdownHeadingCollapsed": true
   },
   "source": [
    "# question 6"
   ]
  },
  {
   "cell_type": "markdown",
   "id": "a6f4d677-3b63-458b-b194-2ca80cef88a6",
   "metadata": {},
   "source": [
    "The reference man is the average man used in dosimitry and toxicity calculations. He is meant to be a good representation of the average person."
   ]
  }
 ],
 "metadata": {
  "kernelspec": {
   "display_name": "Python 3 (ipykernel)",
   "language": "python",
   "name": "python3"
  },
  "language_info": {
   "codemirror_mode": {
    "name": "ipython",
    "version": 3
   },
   "file_extension": ".py",
   "mimetype": "text/x-python",
   "name": "python",
   "nbconvert_exporter": "python",
   "pygments_lexer": "ipython3",
   "version": "3.12.7"
  }
 },
 "nbformat": 4,
 "nbformat_minor": 5
}
