{
 "cells": [
  {
   "cell_type": "code",
   "execution_count": 128,
   "id": "364d513e-693a-4e3b-bb31-b50788a5cb11",
   "metadata": {},
   "outputs": [],
   "source": [
    "import numpy as np\n",
    "import numpy.linalg as la\n",
    "import scipy.optimize as opt\n",
    "import openmc"
   ]
  },
  {
   "cell_type": "markdown",
   "id": "49fee905-295e-44c3-b54c-02957e421a80",
   "metadata": {},
   "source": [
    "# Question 2"
   ]
  },
  {
   "cell_type": "code",
   "execution_count": 152,
   "id": "61accbb4-16d2-4fab-90f1-c38d9ea32dd7",
   "metadata": {},
   "outputs": [],
   "source": [
    "# data\n",
    "nuSf1, nuSf2 = 0, 0.33\n",
    "chi1, chi2 = 1, 0\n",
    "Sa1, Sa2 = 0.012, 0.15\n",
    "D1, D2 = 1.25, 0.38\n",
    "SR1, SR2 = 0.035, 0.15\n",
    "saB2 = 2250 * 1e-24\n",
    "\n",
    "# dimensions\n",
    "nu0 = 2.405\n",
    "R = 1.5 * 100\n",
    "H = 3.2 * 100"
   ]
  },
  {
   "cell_type": "markdown",
   "id": "3e874a19-83eb-4535-8df2-52e2f021058f",
   "metadata": {},
   "source": [
    "## part a"
   ]
  },
  {
   "cell_type": "code",
   "execution_count": 180,
   "id": "3b6c4fb5-fd80-4c27-ad16-43e82e16c808",
   "metadata": {},
   "outputs": [
    {
     "name": "stdout",
     "output_type": "stream",
     "text": [
      "1.42641\n"
     ]
    }
   ],
   "source": [
    "# calculated parameters\n",
    "Bsq = nu0**2 / R**2 + np.pi**2 / H**2\n",
    "Ss12 = (SR1 - Sa1)\n",
    "\n",
    "def find_k(NB):\n",
    "    t1 = Ss12 / (SR1 + D1 * Bsq)\n",
    "    t2 = nuSf2 / (Sa2 + D2 * Bsq + NB * saB2)\n",
    "\n",
    "    return t1 * t2\n",
    "\n",
    "print(round(find_k(0), 5))"
   ]
  },
  {
   "cell_type": "markdown",
   "id": "6b74f3d0-e8be-41b3-a4ee-1384a45865ed",
   "metadata": {},
   "source": [
    "## part b"
   ]
  },
  {
   "cell_type": "code",
   "execution_count": 184,
   "id": "29d4b278-e00b-4a79-aed1-b0f68f027b8b",
   "metadata": {},
   "outputs": [
    {
     "name": "stdout",
     "output_type": "stream",
     "text": [
      "2.8453118714570592e+19\n",
      "510.759\n"
     ]
    }
   ],
   "source": [
    "NA = 6.023e23\n",
    "\n",
    "# boron\n",
    "NB = opt.root_scalar(lambda x: find_k(x) - 1, x0=2e19).root\n",
    "MB = openmc.data.atomic_weight(\"B\")\n",
    "\n",
    "rhoB = NB / NA * MB\n",
    "\n",
    "# water\n",
    "rhow = 1 # g/cc\n",
    "\n",
    "#output\n",
    "ppm = rhoB / rhow * 1e6\n",
    "print(NB)\n",
    "print(round(ppm, 3))"
   ]
  },
  {
   "cell_type": "markdown",
   "id": "8c0493c0-9f8a-4513-a9b1-ede5521d50c1",
   "metadata": {},
   "source": [
    "# Question 3"
   ]
  },
  {
   "cell_type": "code",
   "execution_count": 239,
   "id": "404d59c1-40ce-4273-abc5-99338d5f4864",
   "metadata": {},
   "outputs": [
    {
     "name": "stdout",
     "output_type": "stream",
     "text": [
      "G1: 2.528 b\n",
      "G2: 11.387 b\n",
      "G3: 27.541 b\n"
     ]
    }
   ],
   "source": [
    "bounds = [1e-8, 1e-7, 0.05, 0.1, 0.25, 0.5, 1, 6, 10]\n",
    "dEs = np.array([bounds[i + 1] - bounds[i] for i in range(len(bounds) - 1)])\n",
    "\n",
    "fluxes = np.array([55, 20, 17, 15, 12.1, 1.2, 1.1, 1.3]) * 1e12\n",
    "xss = np.array([115, 45, 7, 12, 12, 6, 3.5, 1.5])\n",
    "\n",
    "# calcs\n",
    "tops = np.zeros(3)\n",
    "bots = np.zeros(3)\n",
    "\n",
    "def add_to(index):\n",
    "    tops[index] += top\n",
    "    bots[index] += bot\n",
    "\n",
    "for i in range(len(xss)):\n",
    "    xs = xss[i]\n",
    "    flux = fluxes[i]\n",
    "    dE = dEs[i]\n",
    "\n",
    "    upper = bounds[i + 1]\n",
    "\n",
    "    top = xs * flux * dE\n",
    "    bot = flux * dE\n",
    "\n",
    "    index = ...\n",
    "    if upper > 1:\n",
    "        add_to(0)\n",
    "        continue\n",
    "    if upper > 0.1:\n",
    "        add_to(1)\n",
    "        continue\n",
    "    if upper > 1e-8:\n",
    "        add_to(2)\n",
    "        continue\n",
    "\n",
    "g1, g2, g3 = np.round(tops / bots, 3)\n",
    "print(f\"G1: {g1} b\\nG2: {g2} b\\nG3: {g3} b\")"
   ]
  }
 ],
 "metadata": {
  "kernelspec": {
   "display_name": "Python 3 (ipykernel)",
   "language": "python",
   "name": "python3"
  },
  "language_info": {
   "codemirror_mode": {
    "name": "ipython",
    "version": 3
   },
   "file_extension": ".py",
   "mimetype": "text/x-python",
   "name": "python",
   "nbconvert_exporter": "python",
   "pygments_lexer": "ipython3",
   "version": "3.12.7"
  }
 },
 "nbformat": 4,
 "nbformat_minor": 5
}
