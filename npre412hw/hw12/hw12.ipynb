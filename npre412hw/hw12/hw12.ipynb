{
 "cells": [
  {
   "cell_type": "code",
   "execution_count": 4,
   "id": "2806aa73-528e-47ab-af0d-e636bcc7cd72",
   "metadata": {},
   "outputs": [],
   "source": [
    "import numpy as np\n",
    "import matplotlib.pyplot as plt\n",
    "import openmc"
   ]
  },
  {
   "cell_type": "markdown",
   "id": "cf577870-cbb7-4e52-9f12-c36c04ab6ed0",
   "metadata": {},
   "source": [
    "# question 1"
   ]
  },
  {
   "cell_type": "code",
   "execution_count": 24,
   "id": "890210b0-6adc-404c-996e-38a1a745702a",
   "metadata": {},
   "outputs": [
    {
     "name": "stdout",
     "output_type": "stream",
     "text": [
      "contibution 1: 0.306 MW\n",
      "contibution 2: 205.252 MW\n",
      "Power Level: 205.559 MW\n"
     ]
    }
   ],
   "source": [
    "# givens\n",
    "P0_e = 1150\n",
    "eta = .32\n",
    "P0_th = P0_e / eta\n",
    "\n",
    "pl1 = 0.4\n",
    "pl2 = 1\n",
    "\n",
    "month_to_s = 30.4167 * 24 * 60 * 60\n",
    "t1 = 5 * month_to_s\n",
    "t2 = 7 * month_to_s\n",
    "\n",
    "\n",
    "# part a\n",
    "def eq_9p5(t, T, P0):\n",
    "    \"\"\"\n",
    "    Params\n",
    "    ------\n",
    "    t : float\n",
    "        time [s] after shutdown\n",
    "    T : float\n",
    "        time [s] of operation\n",
    "    P0 : float\n",
    "        reactor power [MW]\n",
    "    \"\"\"\n",
    "    return P0 * (5.92e-2 * (t**(-0.2) - (t + T)**(-0.2)))\n",
    "\n",
    "\n",
    "# calcs\n",
    "c1a = eq_9p5(t=(1 + t2), T=t1, P0=(P0_th * pl1))\n",
    "c2a = eq_9p5(t=1, T=t2, P0=(P0_th * pl2))\n",
    "decay_heat_a = c1a + c2a\n",
    "\n",
    "print(f\"contibution 1: {round(c1a, 3)} MW\")\n",
    "print(f\"contibution 2: {round(c2a, 3)} MW\")\n",
    "print(f\"Power Level: {round(decay_heat_a, 3)} MW\")"
   ]
  },
  {
   "cell_type": "code",
   "execution_count": 23,
   "id": "b54be8bf-a804-451b-884e-41f154094ea4",
   "metadata": {},
   "outputs": [
    {
     "name": "stdout",
     "output_type": "stream",
     "text": [
      "contibution 1: 0.243 MW\n",
      "contibution 2: 215.655 MW\n",
      "Power Level: 215.898 MW\n"
     ]
    }
   ],
   "source": [
    "# givens\n",
    "alphas = [\n",
    "    5.28e-4, 6.8588e-1, 4.0752e-1, 2.1913e-1, 5.7701e-2,\n",
    "    2.253e-2, 3.3392e-3, 9.36667e-4, 8.0899e-4, 1.9572e-4,\n",
    "    3.2609e-5, 7.5821e-6, 2.5189e-6, 4.9836e-7, 1.8523e-7,\n",
    "    2.659e-8, 2.2356e-9, 8.9582e-12, 8.5968e-11, 2.1072e-14,\n",
    "    7.1219e-16, 8.1126e-17, 9.4678e-17\n",
    "]\n",
    "\n",
    "lambdas = [\n",
    "    2.7216e0, 1.0256e0, 3.1419e-1, 1.1788e-1, 3.4365e-2,\n",
    "    1.1762e-2, 3.6065e-3, 1.3963e-3, 6.2608e-4, 1.8924e-4,\n",
    "    5.5074e-5, 2.0971e-5, 9.994e-6, 2.5401e-6, 6.6332e-7,\n",
    "    1.2281e-7, 2.7163e-8, 3.2955e-9, 7.4225e-10, 2.4681e-10,\n",
    "    1.5596e-13, 2.2573e-14, 2.0503e-14\n",
    "]\n",
    "\n",
    "Q_u235_th = 203\n",
    "\n",
    "\n",
    "# part b\n",
    "def ans_5p1(t, T, P0):\n",
    "    \"\"\"\n",
    "    Params\n",
    "    ------\n",
    "    t : float\n",
    "        time [s] after shutdown\n",
    "    T : float\n",
    "        time [s] of operation\n",
    "    P0 : float\n",
    "        reactor power [MW]\n",
    "    \"\"\"\n",
    "    f_total = 0\n",
    "\n",
    "    for alpha, lam in zip(alphas, lambdas):\n",
    "        f_total += alpha / lam * np.exp(-lam * t) * (1 - np.exp(-lam * T))\n",
    "\n",
    "    return P0 / Q_u235_th * f_total\n",
    "\n",
    "\n",
    "# calcs\n",
    "c1b = ans_5p1(t=(1 + t2), T=t1, P0=(P0_th * pl1))\n",
    "c2b = ans_5p1(t=1, T=t2, P0=(P0_th * pl2))\n",
    "decay_heat_b = c1b + c2b\n",
    "\n",
    "print(f\"contibution 1: {round(c1b, 3)} MW\")\n",
    "print(f\"contibution 2: {round(c2b, 3)} MW\")\n",
    "print(f\"Power Level: {round(decay_heat_b, 3)} MW\")"
   ]
  },
  {
   "cell_type": "code",
   "execution_count": 20,
   "id": "af75f4e2-aeef-4eec-af03-0bad1fe45c9c",
   "metadata": {},
   "outputs": [
    {
     "name": "stdout",
     "output_type": "stream",
     "text": [
      "ANS predicts 10.34 MW more decay heat\n",
      "This is 1.23% higher\n"
     ]
    }
   ],
   "source": [
    "# part c\n",
    "dh_diff = decay_heat_b - decay_heat_a\n",
    "percent_diff = dh_diff / ((decay_heat_b + decay_heat_a) * 2)\n",
    "\n",
    "print(f\"ANS predicts {round(dh_diff, 3)} MW more decay heat\")\n",
    "print(f\"This is {round(percent_diff * 100, 2)}% higher\")"
   ]
  },
  {
   "cell_type": "markdown",
   "id": "94ac9b35-7777-4af4-a290-0484ecd52669",
   "metadata": {},
   "source": [
    "# question 2"
   ]
  },
  {
   "cell_type": "markdown",
   "id": "1b39ad1f-6217-4c0a-8c64-ff2424298612",
   "metadata": {},
   "source": [
    "We are more concerned about low sorption elements because low sorption elements are not contained by the rock as they diffuse away from the waste storage. As these elements are not absorbed by the surrounding rock very well, their concentrations are geometrically \"attenuated\" very little."
   ]
  },
  {
   "cell_type": "markdown",
   "id": "1fa94cf8-977d-4d0d-920c-9f827b6aec01",
   "metadata": {},
   "source": [
    "# question 3"
   ]
  },
  {
   "cell_type": "markdown",
   "id": "ed1288f1-36b0-48a4-986b-e2e3a0a47344",
   "metadata": {},
   "source": [
    "We are more concerned about high solubility elements because high solubility elements have an easier time shedding the confines we imposed upon them. These elements do not like being contained, and, as free-spirited elements, high solubility elements are more likely to leave containment."
   ]
  }
 ],
 "metadata": {
  "kernelspec": {
   "display_name": "Python 3 (ipykernel)",
   "language": "python",
   "name": "python3"
  },
  "language_info": {
   "codemirror_mode": {
    "name": "ipython",
    "version": 3
   },
   "file_extension": ".py",
   "mimetype": "text/x-python",
   "name": "python",
   "nbconvert_exporter": "python",
   "pygments_lexer": "ipython3",
   "version": "3.12.7"
  }
 },
 "nbformat": 4,
 "nbformat_minor": 5
}
