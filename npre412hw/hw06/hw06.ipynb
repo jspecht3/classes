{
 "cells": [
  {
   "cell_type": "code",
   "execution_count": 1,
   "id": "45aa0c65-243c-4be2-87a4-88c65b07f12c",
   "metadata": {},
   "outputs": [],
   "source": [
    "import numpy as np\n",
    "import matplotlib.pyplot as plt\n",
    "import openmc\n",
    "import pandas as pd"
   ]
  },
  {
   "cell_type": "markdown",
   "id": "106198dd-b363-45d6-a7b3-1024e8dc85a0",
   "metadata": {},
   "source": [
    "# Data"
   ]
  },
  {
   "cell_type": "code",
   "execution_count": 23,
   "id": "b2b9a3c8-7d1c-41c1-828d-d4c258eb6666",
   "metadata": {},
   "outputs": [],
   "source": [
    "# data\n",
    "# costs\n",
    "c_yc = 60           # $ / lb of yellow cake\n",
    "c_con = 11.5        # $ / kg U\n",
    "c_swu = 110         # $ / SWU\n",
    "c_ft = 230          # $ / kg U to fabricate and transport\n",
    "\n",
    "# enrichments\n",
    "x_nu = 0.711 / 100  # enrichment of natural U\n",
    "x_en = 4.2 / 100    # enrichment of fuel\n",
    "x_tl = 0.25 / 100   # enrichments of tails\n",
    "\n",
    "# losses\n",
    "l_con = 0.6 / 100   # conversion loss\n",
    "l_fab = 0.7 / 100   # fabrication loss\n",
    "\n",
    "\n",
    "# formatting data\n",
    "m_o = openmc.data.atomic_weight('O')\n",
    "m_u = openmc.data.atomic_weight('U')\n",
    "\n",
    "m_yc = (3 * m_u) + (8 * m_o)\n",
    "m_ratio = (3 * m_u) / m_yc\n",
    "\n",
    "lb_per_kg = 2.2046\n",
    "c_yc *= lb_per_kg / m_ratio  # ($ per lb_yc) * (lb per kg) / (U per yc)"
   ]
  },
  {
   "cell_type": "markdown",
   "id": "b4a9554f-752a-431a-93a9-535156252448",
   "metadata": {},
   "source": [
    "# Functions"
   ]
  },
  {
   "cell_type": "code",
   "execution_count": 28,
   "id": "0cf2a6b8-77a8-4f51-a37f-0670c5210be3",
   "metadata": {},
   "outputs": [],
   "source": [
    "def sep_pot(x):\n",
    "    \"\"\"returns seperation potential for an enrichment x\"\"\"\n",
    "    return (2 * x - 1) * np.log(x / (1 - x))\n",
    "\n",
    "\n",
    "def sep_factor(xf=x_nu, xp=x_en, xw=x_tl):\n",
    "    \"\"\"find the cost to enrich m [kg] of UF6\"\"\"\n",
    "    fop = (xp - xw) / (xf - xw)\n",
    "    wop = (xp - xf) / (xf - xw)\n",
    "\n",
    "    vp = sep_pot(xp)\n",
    "    vf = sep_pot(xf)\n",
    "    vw = sep_pot(xw)\n",
    "\n",
    "    return vp + (wop * vw) - (fop * vf)\n",
    "\n",
    "\n",
    "# functions\n",
    "def fuel_fab(xp=x_en, do_print=False):\n",
    "    \"\"\"calculates fuel fabrication cost using Eq 4.1\"\"\"\n",
    "    # calcs\n",
    "    sf = sep_factor(xp=xp)\n",
    "    fop = (xp - x_tl) / (x_nu - x_tl)\n",
    "\n",
    "    # costs\n",
    "    c1 = ((c_yc / (1 - l_con) / (1 - l_fab)) + (c_con / (1 - l_fab))) * fop\n",
    "    c2 = (c_swu / (1 - l_fab)) * sf\n",
    "    c3 = c_ft\n",
    "\n",
    "    if do_print: print(f\"{c1}\\n{c2}\\n{c3}\")\n",
    "\n",
    "    return c1 + c2 + c3"
   ]
  },
  {
   "cell_type": "markdown",
   "id": "2792ceda-939c-4666-95c3-54230934ae41",
   "metadata": {},
   "source": [
    "# Question 2"
   ]
  },
  {
   "cell_type": "code",
   "execution_count": 25,
   "id": "ff6ff5b1-82e6-425e-82e6-25e9a815ed95",
   "metadata": {},
   "outputs": [
    {
     "name": "stdout",
     "output_type": "stream",
     "text": [
      "FF w/ 4.2%: $2375.23/kg\n"
     ]
    }
   ],
   "source": [
    "cost = fuel_fab(xp=x_en)\n",
    "print(f\"FF w/ 4.2%: ${round(cost, 2)}/kg\")"
   ]
  },
  {
   "cell_type": "markdown",
   "id": "ad890ada-553f-4d20-94b7-6f58fb6aceb3",
   "metadata": {},
   "source": [
    "# Question 3"
   ]
  },
  {
   "cell_type": "code",
   "execution_count": 26,
   "id": "40b978e0-03ff-4dd5-8d71-c7b03fc9f309",
   "metadata": {},
   "outputs": [
    {
     "name": "stdout",
     "output_type": "stream",
     "text": [
      "FF w/ 4.2%: $2375.23/kg\n",
      "FF w/ 4.6%: $2614.83/kg\n",
      "\n",
      "Percent Diff: 10.08785%\n"
     ]
    }
   ],
   "source": [
    "c1 = fuel_fab(xp=x_en)\n",
    "c2 = fuel_fab(xp=(4.6 / 100))\n",
    "\n",
    "diff = (c2 - c1) / c1 * 100\n",
    "\n",
    "print(f\"FF w/ 4.2%: ${round(c1, 2)}/kg\")\n",
    "print(f\"FF w/ 4.6%: ${round(c2, 2)}/kg\")\n",
    "print(f\"\\nPercent Diff: {round(diff, 5)}%\")"
   ]
  }
 ],
 "metadata": {
  "kernelspec": {
   "display_name": "Python 3 (ipykernel)",
   "language": "python",
   "name": "python3"
  },
  "language_info": {
   "codemirror_mode": {
    "name": "ipython",
    "version": 3
   },
   "file_extension": ".py",
   "mimetype": "text/x-python",
   "name": "python",
   "nbconvert_exporter": "python",
   "pygments_lexer": "ipython3",
   "version": "3.12.7"
  }
 },
 "nbformat": 4,
 "nbformat_minor": 5
}
