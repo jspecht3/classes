{
 "cells": [
  {
   "cell_type": "code",
   "execution_count": 2,
   "id": "81011530-87ae-4114-8945-d2d02ccb3bf8",
   "metadata": {},
   "outputs": [],
   "source": [
    "import numpy as np\n",
    "import matplotlib.pyplot as plt\n",
    "import openmc"
   ]
  },
  {
   "cell_type": "code",
   "execution_count": 55,
   "id": "0aa79bd2-f1d9-4a6d-b8f5-b2f173ef687d",
   "metadata": {},
   "outputs": [],
   "source": [
    "NA = 6.022e23\n",
    "s_per_year = 3.154e7"
   ]
  },
  {
   "cell_type": "markdown",
   "id": "f05eecc1-c54f-4be5-aac9-de1f6fdc4e6e",
   "metadata": {
    "jp-MarkdownHeadingCollapsed": true
   },
   "source": [
    "# Q1"
   ]
  },
  {
   "cell_type": "code",
   "execution_count": 190,
   "id": "a73acff9-4127-4abf-9122-2b4dc5dffdb2",
   "metadata": {},
   "outputs": [
    {
     "name": "stdout",
     "output_type": "stream",
     "text": [
      "After 1 year, mass of Pu239 is 6.24982 kg\n"
     ]
    }
   ],
   "source": [
    "# givens\n",
    "flux = 1.2e12\n",
    "m = 90 * 907.185 * 1e3 # tons to kg to g\n",
    "x235 = 0.03\n",
    "\n",
    "# xs\n",
    "sig_c_u = 2.1e-24\n",
    "sig_a_u = 2.3e-24\n",
    "sig_a_pu = 600e-24\n",
    "\n",
    "# half life\n",
    "t_half = 24_400 * s_per_year\n",
    "dc = np.log(2) / t_half\n",
    "\n",
    "# use Eq. 5.89 for Pu\n",
    "# atoms of U-238\n",
    "m238 = m * (1 - x235)\n",
    "M238 = openmc.data.atomic_mass(\"U238\")\n",
    "N238 = m238 / M238 * NA\n",
    "\n",
    "\n",
    "# assume no Pu initially\n",
    "# assume N238 is constant\n",
    "\n",
    "# arrays\n",
    "steps = 100000\n",
    "time = s_per_year\n",
    "\n",
    "dt = time / steps\n",
    "nPus = np.zeros(steps)\n",
    "\n",
    "# differencing\n",
    "for i in range(steps):\n",
    "    production = N238 * sig_c_u * flux\n",
    "    if i == 0:\n",
    "        nPus[i] = production * dt\n",
    "        continue\n",
    "    \n",
    "    decay = dc * nPus[i - 1]\n",
    "    absorption = sig_a_pu * flux * nPus[i - 1]\n",
    "\n",
    "    nPus[i] = nPus[i - 1] + (production - decay - absorption) * dt\n",
    "\n",
    "# output\n",
    "MPu239 = openmc.data.atomic_mass(\"Pu239\")\n",
    "mPu = nPus[-1] / NA * MPu239\n",
    "\n",
    "print(f\"After 1 year, mass of Pu239 is {round(mPu * 1e-3, 5)} kg\")"
   ]
  },
  {
   "cell_type": "markdown",
   "id": "460a12e3-1221-440d-8cbe-906aa71a4048",
   "metadata": {
    "jp-MarkdownHeadingCollapsed": true
   },
   "source": [
    "# Q2"
   ]
  },
  {
   "cell_type": "code",
   "execution_count": 123,
   "id": "0770bb1d-a551-4c13-8e01-12c1de01e531",
   "metadata": {},
   "outputs": [
    {
     "name": "stdout",
     "output_type": "stream",
     "text": [
      "Disposal Cost: $253.44/kg\n"
     ]
    }
   ],
   "source": [
    "# givens\n",
    "fee = 1e-3 # $ / kWh(e)\n",
    "cost = 253  # $ / kgU\n",
    "\n",
    "bu = 33_000  # MWd/t\n",
    "eta = .32\n",
    "\n",
    "# converting fee\n",
    "fee *= 24  # per kWd(e)\n",
    "fee *= 1000  # per MWd(e)\n",
    "fee *= eta  # per MWd\n",
    "\n",
    "# converting bu\n",
    "bu /= 1000  # t -> kg\n",
    "\n",
    "\n",
    "# MWd/kg * $/MWd(e)\n",
    "final = bu * fee\n",
    "print(f\"Disposal Cost: ${final}/kg\")"
   ]
  },
  {
   "cell_type": "markdown",
   "id": "c25cde93-bce9-4403-8181-bc1d18a3f70d",
   "metadata": {
    "jp-MarkdownHeadingCollapsed": true
   },
   "source": [
    "# Q3"
   ]
  },
  {
   "cell_type": "code",
   "execution_count": 165,
   "id": "059210d4-4176-4709-98f1-2eec1be7fe12",
   "metadata": {},
   "outputs": [
    {
     "name": "stdout",
     "output_type": "stream",
     "text": [
      "Flux: 1.938e13/cm^2/s\n"
     ]
    }
   ],
   "source": [
    "# givens\n",
    "xi = 3e-2\n",
    "xf = 0.8e-2\n",
    "\n",
    "time = 3 * s_per_year  # years\n",
    "\n",
    "# xs = total - elastic - inelastic - gamma\n",
    "sig_235 = 400e-24\n",
    "\n",
    "# differencing\n",
    "dx = xi - xf\n",
    "flux = dx / time / xi / sig_235\n",
    "\n",
    "print(f\"Flux: {round(flux * 1e-13, 3)}e13/cm^2/s\")"
   ]
  },
  {
   "cell_type": "markdown",
   "id": "75af2c91-baa4-45aa-b1a7-de1cac149ea5",
   "metadata": {
    "jp-MarkdownHeadingCollapsed": true
   },
   "source": [
    "# Q4"
   ]
  },
  {
   "cell_type": "markdown",
   "id": "12ef3505-59ae-46b3-b7e7-6db6caef508d",
   "metadata": {},
   "source": [
    "not in the real world. ava >= cap, only equal if plant runs at 100% the entire year."
   ]
  },
  {
   "cell_type": "markdown",
   "id": "fb8e2440-b644-4a5c-8d1a-bb7a9e9c2366",
   "metadata": {
    "jp-MarkdownHeadingCollapsed": true
   },
   "source": [
    "# Q5"
   ]
  },
  {
   "cell_type": "code",
   "execution_count": 146,
   "id": "3925373b-9b98-4e64-a5cf-b659f61d3c08",
   "metadata": {},
   "outputs": [],
   "source": [
    "# givens\n",
    "m = 87e3\n",
    "mpb = m / 3  # mass per batch\n",
    "\n",
    "\n",
    "# swu functions\n",
    "def sep_pot(x):\n",
    "    return (2 * x - 1) * np.log(x / (1 - x))\n",
    "\n",
    "\n",
    "def swu(xp, xw=0.2/100, xf=0.71/100):\n",
    "    p = 1\n",
    "    f = (xp - xw) / (xf - xw)\n",
    "    w = (xp - xf) / (xf - xw)\n",
    "\n",
    "    vp = sep_pot(xp)\n",
    "    vf = sep_pot(xf)\n",
    "    vw = sep_pot(xw)\n",
    "\n",
    "    return 1 * (p * vp + w * vw - f * vf)"
   ]
  },
  {
   "cell_type": "markdown",
   "id": "2eaca189-ed0c-4020-866b-7020d9dc9f8e",
   "metadata": {
    "jp-MarkdownHeadingCollapsed": true
   },
   "source": [
    "## part a"
   ]
  },
  {
   "cell_type": "code",
   "execution_count": 170,
   "id": "b4a64ada-25c9-446f-9405-6bce2577c459",
   "metadata": {},
   "outputs": [
    {
     "name": "stdout",
     "output_type": "stream",
     "text": [
      "93.778\n",
      "118.725\n",
      "131.43\n",
      "343.934\n"
     ]
    }
   ],
   "source": [
    "xa1, xa2, xa3 = np.array([2.5, 2.9, 3.1]) / 100\n",
    "\n",
    "swua1 = swu(xa1) * mpb\n",
    "swua2 = swu(xa2) * mpb\n",
    "swua3 = swu(xa3) * mpb\n",
    "\n",
    "swua = swua1 + swua2 + swua3\n",
    "\n",
    "def pprint(*args):\n",
    "    for arg in args:\n",
    "        print(round(arg * 1e-3, 3))\n",
    "    return\n",
    "\n",
    "pprint(swua1, swua2, swua3, swua)\n",
    "#print(round(swua, 3))"
   ]
  },
  {
   "cell_type": "markdown",
   "id": "b19176cd-f754-4bd1-a4f3-d47bf7016fdd",
   "metadata": {},
   "source": [
    "## part b"
   ]
  },
  {
   "cell_type": "code",
   "execution_count": 171,
   "id": "ea7f73b0-ff4e-465b-bc54-2bc623aca989",
   "metadata": {},
   "outputs": [
    {
     "name": "stdout",
     "output_type": "stream",
     "text": [
      "99.95\n",
      "137.831\n",
      "118.891\n"
     ]
    }
   ],
   "source": [
    "xb1, xb2 = np.array([2.6, 3.2]) / 100\n",
    "\n",
    "swub1 = swu(xb1) * mpb\n",
    "swub2 = swu(xb2) * mpb\n",
    "swub = (swub1 + swub2) / 2\n",
    "\n",
    "pprint(swub1, swub2, swub)"
   ]
  },
  {
   "cell_type": "markdown",
   "id": "52ed1063-a372-40c9-a0e7-c06b1e444076",
   "metadata": {},
   "source": [
    "## part c"
   ]
  },
  {
   "cell_type": "code",
   "execution_count": 172,
   "id": "cdd5c0cf-d4b0-4c41-b75c-f431684534bf",
   "metadata": {},
   "outputs": [
    {
     "name": "stdout",
     "output_type": "stream",
     "text": [
      "3772.827\n"
     ]
    }
   ],
   "source": [
    "swuc = swua + swub1 * 15 + swub2 * 14\n",
    "\n",
    "pprint(swuc)"
   ]
  },
  {
   "cell_type": "markdown",
   "id": "9e87a389-5758-458f-94cc-4dd9eecdef59",
   "metadata": {},
   "source": [
    "# Q6"
   ]
  },
  {
   "cell_type": "code",
   "execution_count": 122,
   "id": "f6480d9d-c405-416b-ae39-91e9346ee0e5",
   "metadata": {},
   "outputs": [],
   "source": [
    "cf = .69"
   ]
  },
  {
   "cell_type": "markdown",
   "id": "c4441309-9a5d-45bf-98ac-c0b238f49dc0",
   "metadata": {},
   "source": [
    "## part a"
   ]
  },
  {
   "cell_type": "code",
   "execution_count": 191,
   "id": "3876f88d-4cce-4947-94bb-678118cef93d",
   "metadata": {},
   "outputs": [
    {
     "name": "stdout",
     "output_type": "stream",
     "text": [
      "Burnup after 1 year: 9947.984 MWd/t\n"
     ]
    }
   ],
   "source": [
    "# givens\n",
    "m = 95  # tonnes\n",
    "P = 1200  # MWe\n",
    "eta = .32\n",
    "\n",
    "# calcs\n",
    "bua = P / eta * cf * 365.24 / m\n",
    "print(f\"Burnup after 1 year: {round(bua, 3)} MWd/t\")"
   ]
  },
  {
   "cell_type": "markdown",
   "id": "cb515b93-6400-430c-9ca2-bf5ca18a6da1",
   "metadata": {},
   "source": [
    "## part b"
   ]
  },
  {
   "cell_type": "markdown",
   "id": "92dd2de2-d26e-4727-8325-2267965d6acf",
   "metadata": {},
   "source": [
    "What will be the average burnup, over the life of the plant, if 1/3 of the core is replaced every year? Assume a 30-year life for the plant and a constant capacity factor and efficiency."
   ]
  },
  {
   "cell_type": "code",
   "execution_count": 194,
   "id": "36e7e95e-4b49-4598-9741-4b8fa9c83dc2",
   "metadata": {},
   "outputs": [
    {
     "name": "stdout",
     "output_type": "stream",
     "text": [
      "14921.976315789474 12434.980263157895\n"
     ]
    }
   ],
   "source": [
    "N = 3\n",
    "\n",
    "buf = 2 * N / (N + 1) * bua\n",
    "buavg = (buf + bua) / 2\n",
    "\n",
    "print(buf, buavg)"
   ]
  }
 ],
 "metadata": {
  "kernelspec": {
   "display_name": "Python 3 (ipykernel)",
   "language": "python",
   "name": "python3"
  },
  "language_info": {
   "codemirror_mode": {
    "name": "ipython",
    "version": 3
   },
   "file_extension": ".py",
   "mimetype": "text/x-python",
   "name": "python",
   "nbconvert_exporter": "python",
   "pygments_lexer": "ipython3",
   "version": "3.12.7"
  }
 },
 "nbformat": 4,
 "nbformat_minor": 5
}
