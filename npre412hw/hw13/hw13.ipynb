{
 "cells": [
  {
   "cell_type": "code",
   "execution_count": 25,
   "id": "063a4305-f153-4371-b83c-324ea314554c",
   "metadata": {},
   "outputs": [],
   "source": [
    "import numpy as np"
   ]
  },
  {
   "cell_type": "markdown",
   "id": "0baa6d31-8b82-4a49-b0c0-1ecd2debba9e",
   "metadata": {},
   "source": [
    "# Question 1"
   ]
  },
  {
   "cell_type": "markdown",
   "id": "08e767ad-3ea2-4817-990a-d390d136ea97",
   "metadata": {},
   "source": [
    "How many MWh would have been generated?"
   ]
  },
  {
   "cell_type": "markdown",
   "id": "63939811-2bc1-48b2-b3ad-03be3cded7a9",
   "metadata": {},
   "source": [
    "## part a"
   ]
  },
  {
   "cell_type": "code",
   "execution_count": 99,
   "id": "655c229f-3eff-4ac6-846a-4d533be3bd87",
   "metadata": {},
   "outputs": [
    {
     "name": "stdout",
     "output_type": "stream",
     "text": [
      "3.70e+09\n"
     ]
    }
   ],
   "source": [
    "# givens\n",
    "m = 500e3\n",
    "\n",
    "xw = 0.2e-2\n",
    "xp = 5e-2\n",
    "xf = 90e-2\n",
    "\n",
    "c = 90e-2\n",
    "eta = 33e-2\n",
    "\n",
    "burnup = 50\n",
    "\n",
    "\n",
    "# calcs\n",
    "def ff(xp=xp, xw=xw, xf=xf):\n",
    "    num = xp - xw\n",
    "    denom = xf - xw\n",
    "    return num / denom\n",
    "\n",
    "\n",
    "M = m / ff()\n",
    "P = M * eta * burnup * 24\n",
    "\n",
    "print(f\"{P:.2e}\")"
   ]
  },
  {
   "cell_type": "markdown",
   "id": "4ea16df3-58fd-4914-adf6-8d7245473a23",
   "metadata": {},
   "source": [
    "## part b"
   ]
  },
  {
   "cell_type": "code",
   "execution_count": 101,
   "id": "4e472175-76f9-45d4-ae7c-64c5704166a4",
   "metadata": {},
   "outputs": [
    {
     "name": "stdout",
     "output_type": "stream",
     "text": [
      "7.00e+09\n"
     ]
    }
   ],
   "source": [
    "# givens\n",
    "xp2 = 3.5e-2\n",
    "eta2 = 35.75e-2\n",
    "bu2 = 60\n",
    "\n",
    "# calcs\n",
    "M = m / ff(xp=xp2)\n",
    "P = M * eta2 * bu2 * 24\n",
    "\n",
    "print(f\"{P:.2e}\")"
   ]
  },
  {
   "cell_type": "markdown",
   "id": "700b3e90-fb92-40bc-bd25-b11342d884f3",
   "metadata": {},
   "source": [
    "# Question 2"
   ]
  },
  {
   "cell_type": "code",
   "execution_count": 51,
   "id": "22143a36-e41f-4ca7-9af7-ff6d383c9bc9",
   "metadata": {},
   "outputs": [
    {
     "data": {
      "text/plain": [
       "18000"
      ]
     },
     "execution_count": 51,
     "metadata": {},
     "output_type": "execute_result"
    }
   ],
   "source": [
    "m = 500e3\n",
    "x = 90e-2\n",
    "m_sq = 25\n",
    "\n",
    "# calcs\n",
    "sqs = m * x / m_sq\n",
    "int(sqs)"
   ]
  },
  {
   "cell_type": "markdown",
   "id": "7df6305b-7a9d-4238-bb7b-c34af4564423",
   "metadata": {},
   "source": [
    "# Question 3"
   ]
  },
  {
   "cell_type": "code",
   "execution_count": 52,
   "id": "d4c6cca2-7833-41e9-b87b-50f107ffdfb9",
   "metadata": {},
   "outputs": [
    {
     "data": {
      "text/plain": [
       "25"
      ]
     },
     "execution_count": 52,
     "metadata": {},
     "output_type": "execute_result"
    }
   ],
   "source": [
    "m = 500e3\n",
    "m_sq = 20e3\n",
    "\n",
    "# calcs\n",
    "sqs = m / m_sq\n",
    "int(sqs)"
   ]
  },
  {
   "cell_type": "markdown",
   "id": "07153780-1a81-4a0d-b6a5-3518af590f31",
   "metadata": {},
   "source": [
    "# Question 4"
   ]
  },
  {
   "cell_type": "markdown",
   "id": "e9ab837b-937d-4d7e-a8f6-3f863372f18b",
   "metadata": {},
   "source": [
    "## part a"
   ]
  },
  {
   "cell_type": "code",
   "execution_count": 53,
   "id": "9543c5f6-a5ac-4fcc-a82f-5efe48ef57db",
   "metadata": {},
   "outputs": [
    {
     "data": {
      "text/plain": [
       "9.2"
      ]
     },
     "execution_count": 53,
     "metadata": {},
     "output_type": "execute_result"
    }
   ],
   "source": [
    "PB = 8.2\n",
    "X = 2\n",
    "Y = 1\n",
    "\n",
    "BI = PB + X - Y\n",
    "BI"
   ]
  },
  {
   "cell_type": "markdown",
   "id": "90434d1e-bf64-40f0-8dcf-b2412098ec86",
   "metadata": {},
   "source": [
    "## part b"
   ]
  },
  {
   "cell_type": "code",
   "execution_count": 72,
   "id": "2313a8d8-fbc8-40c1-9730-b25189914012",
   "metadata": {},
   "outputs": [
    {
     "data": {
      "text/plain": [
       "0.0204"
      ]
     },
     "execution_count": 72,
     "metadata": {},
     "output_type": "execute_result"
    }
   ],
   "source": [
    "masses = np.array([\n",
    "    2.102, 2.015, 2.022, 1.998, 1.989,\n",
    "    2.101, 2.077, 1.970, 1.920, 2.010\n",
    "])\n",
    "\n",
    "mean_masses = np.mean(masses)\n",
    "\n",
    "MUF = abs(mean_masses - 2)\n",
    "round(MUF, 4)"
   ]
  },
  {
   "cell_type": "markdown",
   "id": "d0cee631-855a-4baa-a105-e51160459252",
   "metadata": {},
   "source": [
    "## part c"
   ]
  },
  {
   "cell_type": "code",
   "execution_count": 93,
   "id": "b3fb7a9b-f4f8-4e37-b1ec-1b59c18ac259",
   "metadata": {},
   "outputs": [
    {
     "data": {
      "text/plain": [
       "0.05532305125352359"
      ]
     },
     "execution_count": 93,
     "metadata": {},
     "output_type": "execute_result"
    }
   ],
   "source": [
    "sigma = np.std(masses)\n",
    "sigma"
   ]
  },
  {
   "cell_type": "markdown",
   "id": "7a33c9d1-d8c8-4d82-846f-e2f915f4015d",
   "metadata": {},
   "source": [
    "## part d"
   ]
  },
  {
   "cell_type": "code",
   "execution_count": 90,
   "id": "2712c5e0-4bfc-4f4b-8202-bcefc7bca250",
   "metadata": {},
   "outputs": [
    {
     "data": {
      "text/plain": [
       "('The MUF is less than 3sigma.', True)"
      ]
     },
     "execution_count": 90,
     "metadata": {},
     "output_type": "execute_result"
    }
   ],
   "source": [
    "\"The MUF is less than 3sigma.\", MUF < 3 * sigma"
   ]
  },
  {
   "cell_type": "markdown",
   "id": "387161bf-921f-4689-a6db-3f27983c1d6b",
   "metadata": {},
   "source": [
    "## part e"
   ]
  },
  {
   "cell_type": "code",
   "execution_count": 92,
   "id": "4e93112b-b4c1-4b3e-b458-9d4d72fd34f7",
   "metadata": {},
   "outputs": [
    {
     "data": {
      "text/plain": [
       "73529.41176470437"
      ]
     },
     "execution_count": 92,
     "metadata": {},
     "output_type": "execute_result"
    }
   ],
   "source": [
    "sq_u235 = 75  # low enrichment, so indirect\n",
    "m_monthly = 5e-2 * MUF\n",
    "\n",
    "sq_u235 / m_monthly"
   ]
  }
 ],
 "metadata": {
  "kernelspec": {
   "display_name": "Python 3 (ipykernel)",
   "language": "python",
   "name": "python3"
  },
  "language_info": {
   "codemirror_mode": {
    "name": "ipython",
    "version": 3
   },
   "file_extension": ".py",
   "mimetype": "text/x-python",
   "name": "python",
   "nbconvert_exporter": "python",
   "pygments_lexer": "ipython3",
   "version": "3.12.7"
  }
 },
 "nbformat": 4,
 "nbformat_minor": 5
}
