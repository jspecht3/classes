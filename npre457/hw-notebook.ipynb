{
 "cells": [
  {
   "cell_type": "code",
   "execution_count": 1,
   "id": "afd2f4ec-b009-40d3-9477-dcb3d7741c95",
   "metadata": {},
   "outputs": [],
   "source": [
    "import numpy as np\n",
    "import matplotlib.pyplot as plt"
   ]
  },
  {
   "cell_type": "markdown",
   "id": "fd3ccebf-9d1c-47ac-8021-2c0b2655484c",
   "metadata": {
    "jp-MarkdownHeadingCollapsed": true
   },
   "source": [
    "## hw18"
   ]
  },
  {
   "cell_type": "code",
   "execution_count": 33,
   "id": "c3b1cb19-19f5-44b5-921a-75752d1b39c0",
   "metadata": {},
   "outputs": [],
   "source": [
    "def pasd(t, t0, p0):\n",
    "    \"\"\"power after shut-down\n",
    "\n",
    "    Parameters\n",
    "    ----------\n",
    "    t : float\n",
    "        time since shutdown in seconds\n",
    "    t0 : float\n",
    "        operating time\n",
    "    p0 : float\n",
    "        power in MWth\n",
    "    \"\"\"\n",
    "    return 6.48e-3 * p0 * ( (t**(-0.2)) - ((t + t0)**(-0.2)) )"
   ]
  },
  {
   "cell_type": "code",
   "execution_count": 44,
   "id": "65ab6cb4-3317-413b-832f-1a814091a6e6",
   "metadata": {},
   "outputs": [
    {
     "name": "stdout",
     "output_type": "stream",
     "text": [
      "0.1393699263064643\n",
      "1.761193284265856\n",
      "1.9005632105723202\n",
      "0.13880748782333127\n",
      "0.43196662156599674\n",
      "0.570774109389328\n"
     ]
    }
   ],
   "source": [
    "def a2s(t): return m2s(t * 12)\n",
    "def m2s(t): return d2s(t * 30.4167)\n",
    "def d2s(t): return h2s(t * 24)\n",
    "def h2s(t): return mi2s(t * 60)\n",
    "def mi2s(t): return t * 60\n",
    "\n",
    "# dicts\n",
    "## six min after shutdown\n",
    "da1 = {\n",
    "    't': m2s(6) + mi2s(6),\n",
    "    't0': a2s(1),\n",
    "    'p0': 3000\n",
    "}\n",
    "\n",
    "db1 = {\n",
    "    't': mi2s(6),\n",
    "    't0': m2s(6),\n",
    "    'p0': 1000\n",
    "}\n",
    "\n",
    "## 1 day after shutdown\n",
    "da2 = {\n",
    "    't': m2s(6) + d2s(1),\n",
    "    't0': a2s(1),\n",
    "    'p0': 3000\n",
    "}\n",
    "\n",
    "db2 = {\n",
    "    't': d2s(1),\n",
    "    't0': m2s(6),\n",
    "    'p0': 1000\n",
    "}\n",
    "\n",
    "# powers\n",
    "## 6 mins\n",
    "pa1 = pasd(**da1)\n",
    "pb1 = pasd(**db1)\n",
    "p1 = pa1 + pb1\n",
    "\n",
    "## 1 day\n",
    "pa2 = pasd(**da2)\n",
    "pb2 = pasd(**db2)\n",
    "p2 = pa2 + pb2\n",
    "\n",
    "# printing\n",
    "#print(f\"Pa1: {da1}, p {pa1}\")\n",
    "#print(f\"Pb1: {db1}, p {pb1}\")\n",
    "print(pa1)\n",
    "print(pb1)\n",
    "print(p1)\n",
    "#print(f\"Pa2: {da2}, p {pa2}\")\n",
    "#print(f\"Pb2: {db2}, p {pa2}\")\n",
    "print(pa2)\n",
    "print(pb2)\n",
    "print(p2)"
   ]
  },
  {
   "cell_type": "markdown",
   "id": "da658a29-52fe-46e8-aac0-23e07f997ddb",
   "metadata": {},
   "source": [
    "## hw19"
   ]
  },
  {
   "cell_type": "code",
   "execution_count": 54,
   "id": "04ec5cd4-9fe6-48fd-961d-db800d3fc3e3",
   "metadata": {},
   "outputs": [
    {
     "name": "stdout",
     "output_type": "stream",
     "text": [
      "2834.9503114502286 16925.77513239615 1864000.2891935941 1883761.0146374404\n"
     ]
    },
    {
     "data": {
      "text/plain": [
       "129600.00000000001"
      ]
     },
     "execution_count": 54,
     "metadata": {},
     "output_type": "execute_result"
    }
   ],
   "source": [
    "def energy(t1, t2, p0 = 3000):\n",
    "    \"\"\"energy release from decay heat\n",
    "\n",
    "    Parameters\n",
    "    ----------\n",
    "    t : float\n",
    "        time after shutdown [s]\n",
    "    p0 : float\n",
    "        initial power\n",
    "    \"\"\"\n",
    "\n",
    "    # getting constants\n",
    "    if (t2 < 10):\n",
    "        A = 0.0603\n",
    "        a = 0.0639\n",
    "    if (t2 < 150):\n",
    "        A = 0.0766\n",
    "        a = 0.1300\n",
    "    if (t2 < 4e6):\n",
    "        A = 0.1300\n",
    "        a = 0.2830\n",
    "    else:\n",
    "        raise ValueError(\"formula only valid for t < 4e6s\")\n",
    "\n",
    "    # solving for energy\n",
    "    return (p0 * A / (a - 1) * (t1**(1 - a) - t2**(1 - a) ) )\n",
    "\n",
    "# getting energy\n",
    "e1 = energy(0, 10)\n",
    "e2 = energy(10, 150)\n",
    "e3 = energy(150, d2s(1))\n",
    "e = e1 + e2 + e3\n",
    "\n",
    "print(e1, e2, e3, e)\n",
    "d2s(1) * 0.5/1000 * 3000"
   ]
  }
 ],
 "metadata": {
  "kernelspec": {
   "display_name": "Python 3 (ipykernel)",
   "language": "python",
   "name": "python3"
  },
  "language_info": {
   "codemirror_mode": {
    "name": "ipython",
    "version": 3
   },
   "file_extension": ".py",
   "mimetype": "text/x-python",
   "name": "python",
   "nbconvert_exporter": "python",
   "pygments_lexer": "ipython3",
   "version": "3.12.2"
  }
 },
 "nbformat": 4,
 "nbformat_minor": 5
}
