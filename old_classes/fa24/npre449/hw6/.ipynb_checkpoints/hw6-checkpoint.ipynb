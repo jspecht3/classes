{
 "cells": [
  {
   "cell_type": "code",
   "execution_count": 1,
   "id": "2f024584-b2f9-429a-a4f3-85bebcb6dc28",
   "metadata": {},
   "outputs": [],
   "source": [
    "import numpy as np\n",
    "import matplotlib.pyplot as plt\n",
    "from sympy import *"
   ]
  },
  {
   "cell_type": "markdown",
   "id": "519f1e6f-c9be-459a-9221-4252c3780eef",
   "metadata": {},
   "source": [
    "## Question 3"
   ]
  },
  {
   "cell_type": "code",
   "execution_count": 168,
   "id": "d9a35aa9-c815-4db5-b413-e76e004aec18",
   "metadata": {},
   "outputs": [
    {
     "data": {
      "text/plain": [
       "(2111.8016211877857, 664.0235932425408, 355.87558787221224)"
      ]
     },
     "execution_count": 168,
     "metadata": {},
     "output_type": "execute_result"
    }
   ],
   "source": [
    "# parameters\n",
    "## lengths\n",
    "Dc = 12.52e-3\n",
    "tc = 0.86e-3\n",
    "tg = 230e-6\n",
    "\n",
    "Rc = Dc / 2\n",
    "Rg = Rc - tc\n",
    "Rf = Rg - tg / 2\n",
    "pr = Rf / Rg\n",
    "\n",
    "## heat transfer\n",
    "kf = 2.7\n",
    "kc = 17\n",
    "h = 4300\n",
    "\n",
    "### getting real heat transfer\n",
    "alpha = 1.5\n",
    "P1 = 1 - 0.95\n",
    "kpf = (1 + (alpha - 1) * P1) / (1 - P1) * kf\n",
    "\n",
    "P2 = 1 - 0.88\n",
    "kf2 = (1 - P2) / (1 + (alpha - 1) * P2) * kpf\n",
    "kf2\n",
    "\n",
    "## temp\n",
    "To = 295\n",
    "qp = 44e3\n",
    "q = qp / np.pi / Rf**2\n",
    "\n",
    "## unknowns\n",
    "#C2, C3, C4 = S(\"C2, C3, C4\")\n",
    "\n",
    "## areas\n",
    "def perim(r): return 2 * np.pi * r\n",
    "Pf = perim(Rf)\n",
    "Pg = perim(Rg)\n",
    "\n",
    "# solving\n",
    "gradTf = -q * Rf / 2 / kf2\n",
    "\n",
    "c3 = -q * Rf**2 / 2 / kc\n",
    "c4 = To - c3 * np.log(Rc)\n",
    "\n",
    "# temp distributions\n",
    "def temp_clad(r): return c3 * np.log(r) + c4\n",
    "c2 = q * Rf / 2 / h + temp_clad(Rg) + q * Rf**2 / 4 / kf2\n",
    "\n",
    "#def temp_fuel(r): return -q * r**2 / 4 / kf2 + c2\n",
    "\n",
    "temp_fuel(0), temp_fuel(Rf), temp_clad(Rg)"
   ]
  },
  {
   "cell_type": "code",
   "execution_count": 172,
   "id": "86b2840c-489f-4c07-8318-96413f7549a0",
   "metadata": {},
   "outputs": [
    {
     "data": {
      "text/plain": [
       "1387.9126072151635"
      ]
     },
     "execution_count": 172,
     "metadata": {},
     "output_type": "execute_result"
    }
   ],
   "source": [
    "a = 2 / Rf**2\n",
    "b = -q / 4 / kf2 * (Rf**4 / 4) + c2 * Rf**2 / 2\n",
    "a * b"
   ]
  }
 ],
 "metadata": {
  "kernelspec": {
   "display_name": "Python 3 (ipykernel)",
   "language": "python",
   "name": "python3"
  },
  "language_info": {
   "codemirror_mode": {
    "name": "ipython",
    "version": 3
   },
   "file_extension": ".py",
   "mimetype": "text/x-python",
   "name": "python",
   "nbconvert_exporter": "python",
   "pygments_lexer": "ipython3",
   "version": "3.12.2"
  }
 },
 "nbformat": 4,
 "nbformat_minor": 5
}
