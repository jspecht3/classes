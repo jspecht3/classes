{
 "cells": [
  {
   "cell_type": "code",
   "execution_count": 1,
   "id": "ae9b066d-a28d-4c67-86f2-de85c5fd15a3",
   "metadata": {},
   "outputs": [],
   "source": [
    "import numpy as np\n",
    "import matplotlib.pyplot as plt\n",
    "import openmc"
   ]
  },
  {
   "cell_type": "code",
   "execution_count": 118,
   "id": "0f2672cd-b21b-44bc-87b8-5ff8d2e16644",
   "metadata": {},
   "outputs": [],
   "source": [
    "# constants\n",
    "NA = 6.022e23"
   ]
  },
  {
   "cell_type": "markdown",
   "id": "908b1a61-185f-451e-ba84-5f863e2c86db",
   "metadata": {
    "jp-MarkdownHeadingCollapsed": true
   },
   "source": [
    "## 3-1"
   ]
  },
  {
   "cell_type": "code",
   "execution_count": 98,
   "id": "821a1b0d-df5d-402e-9be6-c1a5ee4af3e2",
   "metadata": {},
   "outputs": [
    {
     "name": "stdout",
     "output_type": "stream",
     "text": [
      "1. Avg Flux [neutrons/cm^2] : 3.7549772904490375 e13\n"
     ]
    }
   ],
   "source": [
    "# 1.1\n",
    "## givens\n",
    "power = 3083 # MW\n",
    "xi_f = 3.04e-11 # J/fission\n",
    "\n",
    "n_assemblies = 193 # rods\n",
    "m_rod = 517.4 # kg\n",
    "\n",
    "wt_percent = 3.25 / 100\n",
    "sigma_u235 = 350e-24 # barns\n",
    "\n",
    "## molar masses\n",
    "m_u235 = 235 #openmc.atomic_mass(\"U235\")\n",
    "m_u238 = 238 #openmc.atomic_mass(\"U238\")\n",
    "m_o = openmc.atomic_mass(\"O16\")\n",
    "\n",
    "\n",
    "## atom percents\n",
    "n_u235 = wt_percent / m_u235 * NA\n",
    "n_u238 = (1 - wt_percent) / m_u238 * NA\n",
    "\n",
    "at_percent = n_u235 / (n_u235 + n_u238)\n",
    "\n",
    "\n",
    "## weight of uranium\n",
    "m_uo2 = (at_percent * m_u235) + ((1 - at_percent) * m_u238) + (2 * m_o) \n",
    "\n",
    "fuel_mass = n_assemblies * m_rod * 1000\n",
    "n_fuel = fuel_mass / m_uo2 * NA\n",
    "\n",
    "n_u235 = n_fuel * at_percent\n",
    "\n",
    "\n",
    "## solving, eq 3-13d\n",
    "avg_flux = 0.95 * (power * 1e6) / xi_f / sigma_u235 / n_u235\n",
    "print(\"1. Avg Flux [neutrons/cm^2] :\", avg_flux * 1e-13, \"e13\")"
   ]
  },
  {
   "cell_type": "code",
   "execution_count": 93,
   "id": "010c83e4-c88b-4c37-875f-1b277450b157",
   "metadata": {},
   "outputs": [
    {
     "name": "stdout",
     "output_type": "stream",
     "text": [
      "Power Density [MW/m^3] : 289.5759792385603\n"
     ]
    }
   ],
   "source": [
    "# 1.2\n",
    "## givens\n",
    "rho = 10.97 # g/cc\n",
    "gamma = 0.9 # 90% density\n",
    "\n",
    "## calculating power\n",
    "density = rho * gamma / m_uo2 * NA * at_percent\n",
    "power_density = (density * 1e6)* sigma_u235 * avg_flux * (xi_f * 1e-6)\n",
    "\n",
    "print(\"Power Density [MW/m^3] :\", power_density)"
   ]
  },
  {
   "cell_type": "code",
   "execution_count": 104,
   "id": "46bdbff8-7134-4674-a7fe-3b364ec9ca30",
   "metadata": {},
   "outputs": [
    {
     "name": "stdout",
     "output_type": "stream",
     "text": [
      "Linear Power Density [kW/m] : 19.241746993084902\n"
     ]
    }
   ],
   "source": [
    "# 1.3\n",
    "## givens\n",
    "n_rods = 207\n",
    "l_rod = 3.810 # m\n",
    "\n",
    "## power / total length of \n",
    "linear_power_density = (power * 1000) * .95 / (n_rods * n_assemblies * l_rod)\n",
    "print(\"Linear Power Density [kW/m] :\", linear_power_density)"
   ]
  },
  {
   "cell_type": "code",
   "execution_count": 117,
   "id": "8eabfe5f-ec46-4a77-9727-bda39d7222d6",
   "metadata": {},
   "outputs": [
    {
     "name": "stdout",
     "output_type": "stream",
     "text": [
      "Avg Heat Flux [kW/m^2] 612.4838295346152\n"
     ]
    }
   ],
   "source": [
    "# 1.4\n",
    "## givens\n",
    "clad_diam = 10e-3 # m\n",
    "\n",
    "## total clad area\n",
    "single_clad_area = (clad_diam * np.pi) * l_rod\n",
    "total_clad_area = single_clad_area * n_rods * n_assemblies\n",
    "\n",
    "avg_heat_flux = power / total_clad_area * 1000 * .95\n",
    "print(\"Avg Heat Flux [kW/m^2]\", avg_heat_flux)"
   ]
  },
  {
   "cell_type": "markdown",
   "id": "cbc95e86-2114-406c-b04e-d5b24d71a578",
   "metadata": {},
   "source": [
    "## 3-3"
   ]
  },
  {
   "cell_type": "code",
   "execution_count": 4,
   "id": "f4a40075-366e-4f8a-b0ac-d5a16772690f",
   "metadata": {},
   "outputs": [],
   "source": [
    "# 3.1\n",
    "## givens\n",
    "### gamma\n",
    "e_gamma = 2 # MeV\n",
    "phi_gamma = 10e14 # gamma/cm^2*s\n",
    "b_fe = 4.212 # buildup factor for iron\n",
    "\n",
    "### neutron givens\n",
    "e_n = 0.6 # MeV\n",
    "phi_n = 10e14 # n/cm^2*s\n",
    "sigma = 3e-24 # cm^2\n",
    "f_2mev = 0.1 # idk\n",
    "\n",
    "### others\n",
    "m_fe = 55.85\n",
    "\n"
   ]
  },
  {
   "cell_type": "markdown",
   "id": "29ededc0-0ffa-4dd2-a26f-6e66944d9ebb",
   "metadata": {
    "jp-MarkdownHeadingCollapsed": true
   },
   "source": [
    "## 3-4"
   ]
  },
  {
   "cell_type": "code",
   "execution_count": 156,
   "id": "a50da738-70ff-4e8f-a801-b51c10b1ac5a",
   "metadata": {},
   "outputs": [
    {
     "name": "stdout",
     "output_type": "stream",
     "text": [
      "a) 1 Hour [TJ]  : 0.11300609778328748\n",
      "b) 1 Day [TJ]   : 1.2455368566825114\n",
      "c) 1 Month [TJ] : 13.122752543199084\n"
     ]
    }
   ],
   "source": [
    "# 4.1\n",
    "hour = 3600\n",
    "day = 24 * hour\n",
    "month = 30.4167 * day\n",
    "year = 365 * day\n",
    "\n",
    "def power_after_shutdown(tau):\n",
    "    tau_s = year\n",
    "    return 0.75 * 5/4 * 0.066 * 3000e6 * (tau_s**(0.8) + (tau - tau_s)**(0.8) - tau**(0.8)) * 1e-12\n",
    "\n",
    "t1 = year + hour\n",
    "t2 = year + day\n",
    "t3 = year + month\n",
    "\n",
    "p1 = power_after_shutdown(t1)\n",
    "p2 = power_after_shutdown(t2)\n",
    "p3 = power_after_shutdown(t3)\n",
    "\n",
    "print(\"a) 1 Hour [TJ]  :\",p1)\n",
    "print(\"b) 1 Day [TJ]   :\",p2)\n",
    "print(\"c) 1 Month [TJ] :\",p3)"
   ]
  }
 ],
 "metadata": {
  "kernelspec": {
   "display_name": "Python 3 (ipykernel)",
   "language": "python",
   "name": "python3"
  },
  "language_info": {
   "codemirror_mode": {
    "name": "ipython",
    "version": 3
   },
   "file_extension": ".py",
   "mimetype": "text/x-python",
   "name": "python",
   "nbconvert_exporter": "python",
   "pygments_lexer": "ipython3",
   "version": "3.12.2"
  }
 },
 "nbformat": 4,
 "nbformat_minor": 5
}
