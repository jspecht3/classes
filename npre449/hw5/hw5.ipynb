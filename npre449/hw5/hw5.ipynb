{
 "cells": [
  {
   "cell_type": "code",
   "execution_count": 50,
   "id": "99edb6d9-ed4a-4c8b-b433-d46c00c3a704",
   "metadata": {},
   "outputs": [
    {
     "data": {
      "text/plain": [
       "146.0285196042249"
      ]
     },
     "execution_count": 50,
     "metadata": {},
     "output_type": "execute_result"
    }
   ],
   "source": [
    "import numpy as np\n",
    "import numpy.linalg as la\n",
    "\n",
    "from pyXSteam.XSteam import XSteam as xs\n",
    "props = xs(xs.UNIT_SYSTEM_BARE)\n",
    "props.h_ps(7.7725,0.47782)"
   ]
  },
  {
   "cell_type": "markdown",
   "id": "5da4650b-84dd-4200-b33f-22ed4162d7ee",
   "metadata": {
    "jp-MarkdownHeadingCollapsed": true
   },
   "source": [
    "## Question 2: T-K, 6.2"
   ]
  },
  {
   "cell_type": "markdown",
   "id": "1f64b21e-f4b4-4626-a57e-9195fd99eb59",
   "metadata": {
    "jp-MarkdownHeadingCollapsed": true
   },
   "source": [
    "### part a"
   ]
  },
  {
   "cell_type": "markdown",
   "id": "391df38f-d538-4002-8934-4416acb49575",
   "metadata": {},
   "source": [
    "#### first graph"
   ]
  },
  {
   "cell_type": "code",
   "execution_count": 91,
   "id": "48c3551c-acd0-4cc3-885f-c54469e94afb",
   "metadata": {},
   "outputs": [
    {
     "name": "stdout",
     "output_type": "stream",
     "text": [
      "chi:  0.6675546030317889\n",
      "h1:   2762.0\n",
      "h2:   1755.574563403206\n",
      "h3:   138.27\n",
      "h3p:  146.04\n",
      "h4:   1306.3\n",
      "eta:  0.38175485733604264\n",
      "sr:  3.604846945276778\n",
      "\n",
      "--- part c ---\n",
      "1160.26\n",
      "1455.7\n"
     ]
    }
   ],
   "source": [
    "# use NIST isothermal to find the saturation pressure at 293 *C\n",
    "\n",
    "# fluid properties\n",
    "## point 4\n",
    "p4 = 7.7725 # MPa\n",
    "h4 = 1306.3 # kJ/kg\n",
    "\n",
    "## point 1\n",
    "p1 = p4\n",
    "h1 = 2762.0 # kJ/kg\n",
    "s1 = 5.7605 # J/g*K\n",
    "\n",
    "## point 3\n",
    "p3 = 0.0050354 # MPa\n",
    "h3 = 138.27 # kJ/kg\n",
    "s3 = 0.47782 # J/g*K\n",
    "\n",
    "## point 2\n",
    "s2 = s1\n",
    "\n",
    "### vapor point\n",
    "hv = 2561 # kJ/kg\n",
    "sv = 8.3913 # J/g*k\n",
    "\n",
    "chi = (s2 - s3) / (sv - s3)\n",
    "h2 = h3 + chi * (hv - h3)\n",
    "\n",
    "## point 3\n",
    "h3p = 146.04 # kJ/kg\n",
    "\n",
    "# output\n",
    "print(\"chi: \", chi)\n",
    "print(\"h1:  \", h1)\n",
    "print(\"h2:  \", h2)\n",
    "print(\"h3:  \", h3)\n",
    "print(\"h3p: \", h3p)\n",
    "print(\"h4:  \", h4)\n",
    "\n",
    "eta = ((h1 - h2) - (h3p - h3)) / (h1 - h3p)\n",
    "print(\"eta: \", eta)\n",
    "\n",
    "sr = 1 / ((h1 - h2) - (h3p - h3)) * 3600\n",
    "print(\"sr: \", sr)\n",
    "\n",
    "print(\"\\n--- part c ---\")\n",
    "print(h4 - h3p)\n",
    "print(h1 - h4)"
   ]
  },
  {
   "cell_type": "markdown",
   "id": "85d2e437-49d4-4078-b5b1-d328383f5a4f",
   "metadata": {},
   "source": [
    "#### second graph"
   ]
  },
  {
   "cell_type": "code",
   "execution_count": 93,
   "id": "c8653bd2-e728-4cad-8dea-270b8fd1f4d6",
   "metadata": {},
   "outputs": [
    {
     "name": "stdout",
     "output_type": "stream",
     "text": [
      "----- point 4 -----\n",
      "t : 566\n",
      "h : 1305.2597175573528\n",
      "s : 3.187402460109793\n",
      "----- point 1 -----\n",
      "t : 566\n",
      "h : 2762.192380449243\n",
      "s : 5.761489210724561\n",
      "----- point 2 -----\n",
      "t : 306\n",
      "h : 1755.0431198812475\n",
      "s : 5.761489210724561\n",
      "x : 0.667496514704536\n",
      "----- point 3 -----\n",
      "t : 306\n",
      "h : 967.3745350408321\n",
      "s : 3.187402460109793\n",
      "x : 0.3424247576386403\n",
      "----- eta -----\n",
      "0.45936514095513603\n",
      "sr : 5.379042620188431\n",
      "\n",
      "--- part c ---\n",
      "1456.9326628918902\n"
     ]
    }
   ],
   "source": [
    "# point 4\n",
    "t4 = 293 + 273\n",
    "h4 = props.hL_t(t4)\n",
    "s4 = props.sL_t(t4)\n",
    "\n",
    "# point 1\n",
    "t1 = t4\n",
    "h1 = props.hV_t(t1)\n",
    "s1 = props.sV_t(t1)\n",
    "\n",
    "# point 2\n",
    "t2 = 33 + 273\n",
    "s2 = s1\n",
    "\n",
    "# point 3\n",
    "t3 = t2\n",
    "s3 = s4\n",
    "\n",
    "# for h2 and h3\n",
    "sf = props.sL_t(t2)\n",
    "sv = props.sV_t(t2)\n",
    "svf = sv - sf\n",
    "\n",
    "hf = props.hL_t(t2)\n",
    "hv = props.hV_t(t2)\n",
    "hvf = hv - hf\n",
    "\n",
    "x2 = (s2 - sf) / svf\n",
    "x3 = (s3 - sf) / svf\n",
    "\n",
    "h2 = hf + x2 * hfg\n",
    "h3 = hf + x3 * hfg\n",
    "\n",
    "# eta\n",
    "qin = h1 - h4\n",
    "\n",
    "wt = h1 - h2\n",
    "wp = h4 - h3\n",
    "w = wt - wp\n",
    "\n",
    "eta = w / qin\n",
    "\n",
    "# outputs\n",
    "print(\"----- point 4 -----\")\n",
    "print(\"t :\", t4)\n",
    "print(\"h :\", h4)\n",
    "print(\"s :\", s4)\n",
    "\n",
    "print(\"----- point 1 -----\")\n",
    "print(\"t :\", t1)\n",
    "print(\"h :\", h1)\n",
    "print(\"s :\", s1)\n",
    "\n",
    "print(\"----- point 2 -----\")\n",
    "print(\"t :\", t2)\n",
    "print(\"h :\", h2)\n",
    "print(\"s :\", s2)\n",
    "print(\"x :\", x2)\n",
    "\n",
    "print(\"----- point 3 -----\")\n",
    "print(\"t :\", t3)\n",
    "print(\"h :\", h3)\n",
    "print(\"s :\", s3)\n",
    "print(\"x :\", x3)\n",
    "\n",
    "print(\"----- eta -----\")\n",
    "print(eta)\n",
    "\n",
    "sr = 1 / w * 3600\n",
    "print(\"sr :\", sr)\n",
    "\n",
    "print(\"\\n--- part c ---\")\n",
    "print(h1 - h4)"
   ]
  },
  {
   "cell_type": "markdown",
   "id": "9c77d2ac-60d0-402e-893e-d4343e42b5b1",
   "metadata": {},
   "source": [
    "#### third graph"
   ]
  },
  {
   "cell_type": "code",
   "execution_count": 95,
   "id": "175483e8-7649-4bb9-81b3-27febb0630dd",
   "metadata": {},
   "outputs": [
    {
     "name": "stdout",
     "output_type": "stream",
     "text": [
      "----- point 4 -----\n",
      "p : 5\n",
      "h : 1154.5020423338253\n",
      "----- point 5 -----\n",
      "p : 5\n",
      "h : 2794.2270660450627\n",
      "----- point 1 -----\n",
      "p 5\n",
      "t : 566\n",
      "h : 2902.5073156979665\n",
      "s : 6.170326901267379\n",
      "----- point 3 -----\n",
      "t : 306\n",
      "h : 137.65857725347092\n",
      "s : 0.47590565190993156\n",
      "----- point 2 -----\n",
      "chi : 0.7191270925736679\n",
      "h : 1880.147141749343\n",
      "s : 6.170326901267379\n",
      "----- point 3' -----\n",
      "p' : 5\n",
      "h : 142.66288877803146\n",
      "s : 0.47590565190993156\n",
      "----- eta -----\n",
      "0.36862797500490313\n",
      "sr : 3.538584808881179\n",
      "\n",
      "--- part c ---\n",
      "1016.8434650803545\n",
      "1748.0052733641412\n"
     ]
    }
   ],
   "source": [
    "# point 4\n",
    "p4 = 5\n",
    "h4 = props.hL_p(p4)\n",
    "\n",
    "# point 5\n",
    "p5 = p4\n",
    "h5 = props.hV_p(p5)\n",
    "\n",
    "# point 1\n",
    "p1 = p5\n",
    "t1 = 293 + 273\n",
    "h1 = props.h_pt(p1, t1)\n",
    "s1 = props.s_ph(p1, h1)\n",
    "\n",
    "# point 3\n",
    "t3 = 33 + 273\n",
    "h3 = props.hL_t(t3)\n",
    "s3 = props.sL_t(t3)\n",
    "\n",
    "# point 2\n",
    "sf = s3\n",
    "sg = props.sV_t(t3)\n",
    "sfg = sg - sf\n",
    "\n",
    "hf = h3\n",
    "hg = props.hV_t(t3)\n",
    "hfg = hg - hf\n",
    "\n",
    "s2 = s1\n",
    "x2 = (s2 - sf) / sfg\n",
    "h2 = hf + x2 * hfg\n",
    "\n",
    "# point 3p\n",
    "p3p = p4\n",
    "s3p = s3\n",
    "h3p = props.h_ps(p4, s3)\n",
    "\n",
    "# eta\n",
    "qin = h1 - h3p\n",
    "\n",
    "wt = h1 - h2\n",
    "wp = h3p - h3\n",
    "w = wt - wp\n",
    "\n",
    "eta = w / qin\n",
    "\n",
    "# outputs\n",
    "print(\"----- point 4 -----\")\n",
    "print(\"p :\", p4)\n",
    "print(\"h :\", h4)\n",
    "\n",
    "print(\"----- point 5 -----\")\n",
    "print(\"p :\", p5)\n",
    "print(\"h :\", h5)\n",
    "\n",
    "print(\"----- point 1 -----\")\n",
    "print(\"p\", p1)\n",
    "print(\"t :\", t1)\n",
    "print(\"h :\", h1)\n",
    "print(\"s :\", s1)\n",
    "\n",
    "print(\"----- point 3 -----\")\n",
    "print(\"t :\", t3)\n",
    "print(\"h :\", h3)\n",
    "print(\"s :\", s3)\n",
    "\n",
    "print(\"----- point 2 -----\")\n",
    "print(\"chi :\", x2)\n",
    "print(\"h :\", h2)\n",
    "print(\"s :\", s2)\n",
    "\n",
    "print(\"----- point 3' -----\")\n",
    "print(\"p' :\", p3p)\n",
    "print(\"h :\", h3p)\n",
    "print(\"s :\", s3p)\n",
    "\n",
    "print(\"----- eta -----\")\n",
    "print(eta)\n",
    "\n",
    "print(\"sr :\", 3600 / w)\n",
    "\n",
    "print(\"\\n--- part c ---\")\n",
    "print(h4 - h3)\n",
    "print(h1 - h4)"
   ]
  },
  {
   "cell_type": "markdown",
   "id": "42beffa9-c523-4602-8027-1983d673d3e0",
   "metadata": {},
   "source": [
    "### part b"
   ]
  },
  {
   "cell_type": "code",
   "execution_count": 84,
   "id": "b6d67b98-a42d-4cbc-ae22-3e32222523e4",
   "metadata": {},
   "outputs": [
    {
     "data": {
      "text/plain": [
       "0.4593639575971732"
      ]
     },
     "execution_count": 84,
     "metadata": {},
     "output_type": "execute_result"
    }
   ],
   "source": [
    "eta_c = 1 - (33 + 273) / (293 + 273)\n",
    "eta_c"
   ]
  },
  {
   "cell_type": "markdown",
   "id": "7633fe9f-5d97-4159-ad28-2214bf29341e",
   "metadata": {},
   "source": [
    "## Question 3: T-K, 6.3"
   ]
  },
  {
   "cell_type": "code",
   "execution_count": 102,
   "id": "891f16c4-1084-4b0a-bc63-04f92eeab8e0",
   "metadata": {},
   "outputs": [
    {
     "name": "stdout",
     "output_type": "stream",
     "text": [
      "----- part a -----\n",
      "wt1:  260.49503576379806\n",
      "wt2:  702.8136785687412\n",
      "wp1:  1.6084821438599808\n",
      "wp2:  6.588851615510374\n",
      "eta: 0.3391166426416052\n",
      "eta perfect: 0.378021386478543\n"
     ]
    }
   ],
   "source": [
    "# efficiencies\n",
    "etat,etap = .9,.85\n",
    "\n",
    "# enthalpies\n",
    "h1 = props.hV_p(6.890)\n",
    "h2 = props.h_ps(1.380,props.sV_p(6.890))\n",
    "\n",
    "h6 = props.hL_p(6.89/1000)\n",
    "h7 = props.h_ps(1.380,props.sL_p(6.89/1000))\n",
    "\n",
    "h3 = props.hV_p(1.380)\n",
    "h4 = props.hL_p(1.380)\n",
    "h5 = props.h_ps(6.89/1000,props.sV_p(1.380))\n",
    "\n",
    "\n",
    "# works\n",
    "wt1 = etat * (h1 - h2)\n",
    "wt2 = etat * (h3 - h5)\n",
    "wp1 = (h7 - h6) / etap\n",
    "\n",
    "# to solve remaning\n",
    "x2 = props.x_ph(1.380,h1-wt1)\n",
    "h8 = (1-x2)*h4 + x2*(h6-wp1) \n",
    "s8 = props.s_ph(1.380,h8)\n",
    "h9 = props.h_ps(6.89,s8)\n",
    "\n",
    "# finding word and final\n",
    "wp2 = (h9 - h8) / etap\n",
    "qr = h1 - (h8 - wp2)\n",
    "\n",
    "#output\n",
    "eta = (wt1 + x2*wt2 - x2*wp1 - wp2) / qr\n",
    "\n",
    "print(\"----- part a -----\")\n",
    "print(\"wt1: \", wt1)\n",
    "print(\"wt2: \", wt2)\n",
    "print(\"wp1: \", wp1)\n",
    "print(\"wp2: \", wp2)\n",
    "print(\"eta:\", eta)\n",
    "print(\"eta perfect:\", (wt1 + wt2 - wp1 - wp2) / qr)"
   ]
  }
 ],
 "metadata": {
  "kernelspec": {
   "display_name": "Python 3 (ipykernel)",
   "language": "python",
   "name": "python3"
  },
  "language_info": {
   "codemirror_mode": {
    "name": "ipython",
    "version": 3
   },
   "file_extension": ".py",
   "mimetype": "text/x-python",
   "name": "python",
   "nbconvert_exporter": "python",
   "pygments_lexer": "ipython3",
   "version": "3.12.2"
  }
 },
 "nbformat": 4,
 "nbformat_minor": 5
}
