{
 "cells": [
  {
   "cell_type": "code",
   "execution_count": 2,
   "id": "7242855e-008e-4a5f-adc4-1ece5c93aa7a",
   "metadata": {},
   "outputs": [],
   "source": [
    "import numpy as np\n",
    "import numpy.linalg as la\n",
    "import sympy as sy\n",
    "import pandas as pd"
   ]
  },
  {
   "cell_type": "markdown",
   "id": "6dc24660-af7e-4120-a6f0-2b11e21cba77",
   "metadata": {},
   "source": [
    "## Functions"
   ]
  },
  {
   "cell_type": "code",
   "execution_count": 8,
   "id": "f4a4d182-bcc2-478f-a01a-70d7ce9dad5e",
   "metadata": {},
   "outputs": [],
   "source": [
    "def check_cn(ratio):\n",
    "    \"\"\"Checks the ratio of the cation and anion radius and gives the coordination\n",
    "    number based on Table 12.2 in Callister\"\"\"\n",
    "    if (ratio < 0.155): return 2\n",
    "    if (ratio < 0.225): return 3\n",
    "    if (ratio < 0.414): return 4\n",
    "    if (ratio < 0.732): return 6\n",
    "    if (ratio <= 1): return 8\n",
    "    return \"invalid ratio -- cation is \"\"always\"\" smaller than the anion\"\n",
    "\n",
    "def check_ax_structure(cn):\n",
    "    \"\"\"Checks the coordination number of AX compounds and returns the structure name\n",
    "    and the anion packing\"\"\"\n",
    "    if (cn == 4): return (\"Zinc Blende (Sphalerite)\", \"FCC\")\n",
    "    if (cn == 6): return (\"Rock Salt (NaCl)\", \"FCC\")\n",
    "    if (cn == 8): return (\"Cesium Chloride\", \"SC\")\n",
    "    return \"Invalid coordination number\"\n",
    "\n",
    "def vol_sphere(radius): return 4/3 * np.pi * radius**3"
   ]
  },
  {
   "cell_type": "markdown",
   "id": "1dfa5288-b7f2-4a75-9c2c-0cb78c245047",
   "metadata": {},
   "source": [
    "## Constants"
   ]
  },
  {
   "cell_type": "code",
   "execution_count": 9,
   "id": "feed5c57-d70b-4431-a861-502b0ca8df41",
   "metadata": {},
   "outputs": [],
   "source": [
    "NA = 6.022e23\n",
    "\n",
    "m_li = 6.941 # g/mol\n",
    "m_be = 9.0122 # g/mol\n",
    "m_f = 18.998403 # g/mol\n",
    "\n",
    "\n",
    "r_be = 0.045e-7 # cm\n",
    "r_f = 0.133e-7 # cm"
   ]
  },
  {
   "cell_type": "markdown",
   "id": "42937532-c6f7-4d09-b7ea-c669ec2d776c",
   "metadata": {},
   "source": [
    "## Question 1"
   ]
  },
  {
   "cell_type": "code",
   "execution_count": 13,
   "id": "333c2e3e-0f34-438b-97e5-968b3291f40b",
   "metadata": {},
   "outputs": [],
   "source": [
    "# constructing data\n",
    "d1 = {}\n",
    "\n",
    "## inputting ionic radii\n",
    "d1[\"CaO\"] = {\"Ca\": 0.1, \"O\": 0.140}\n",
    "d1[\"MnS\"] = {\"Mn\": 0.067, \"S\": 0.184}\n",
    "d1[\"KBr\"] = {\"K\": 0.138, \"Br\": 0.196}\n",
    "d1[\"CsBr\"] = {\"Cs\": 0.17, \"Br\": 0.196}\n",
    "\n",
    "## finding ratio of cation radius to anion radius \n",
    "for compound in d1:\n",
    "    kc, ka = d1[compound].keys()\n",
    "    \n",
    "    rc = d1[compound][kc]\n",
    "    ra = d1[compound][ka]\n",
    "    \n",
    "    d1[compound][\"ratio\"] = rc / ra\n",
    "\n",
    "## finding coordination number\n",
    "for compound in d1:\n",
    "    cn = check_cn(d1[compound][\"ratio\"])\n",
    "    d1[compound][\"cn\"] = cn\n",
    "\n",
    "    ### finding structure name and anion packing\n",
    "    crystal_type, anion_packing = check_ax_structure(cn)\n",
    "    \n",
    "    d1[compound][\"crystal type\"] = crystal_type\n",
    "    d1[compound][\"anion packing\"] = anion_packing"
   ]
  },
  {
   "cell_type": "code",
   "execution_count": 28,
   "id": "20f2acd9-1d63-4b42-a2e8-85c85aeec2ca",
   "metadata": {},
   "outputs": [
    {
     "data": {
      "text/plain": [
       "'textbf{CaO} & Ca & O & 0.1 & 0.14 & 0.714 & 6 & Rock Salt (NaCl) & FCC \\\\ \\\\hline textbf{MnS} & Mn & S & 0.067 & 0.184 & 0.364 & 4 & Zinc Blende (Sphalerite) & FCC \\\\ \\\\hline textbf{KBr} & K & Br & 0.138 & 0.196 & 0.704 & 6 & Rock Salt (NaCl) & FCC \\\\ \\\\hline textbf{CsBr} & Cs & Br & 0.17 & 0.196 & 0.867 & 8 & Cesium Chloride & SC \\\\ \\\\hline '"
      ]
     },
     "execution_count": 28,
     "metadata": {},
     "output_type": "execute_result"
    }
   ],
   "source": [
    "# outputting to latex format\n",
    "output = \"\"\n",
    "\n",
    "for compound in d1:\n",
    "    output += \"textbf{\" + compound + \"}\"\n",
    "\n",
    "    index = 0\n",
    "\n",
    "    to_append1 = \"\"\n",
    "    to_append2 = \"\"\n",
    "    to_append3 = \"\"\n",
    "    \n",
    "    for key in d1[compound]:\n",
    "#        print(key)\n",
    "        if (index == 0 or index == 1):\n",
    "            to_append1 += \" & \" + key\n",
    "            to_append2 += \" & \" + str(d1[compound][key])\n",
    "\n",
    "        \n",
    "        if (index != 0 and index != 1 and index != 2):\n",
    "            try: to_append3 += \" & \" + str(round(d1[compound][key], 3))\n",
    "            except: to_append3 += \" & \" + str(d1[compound][key])\n",
    "\n",
    "        index += 1\n",
    "\n",
    "\n",
    "    to_append2 += \" & \" + str( round( d1[compound][\"ratio\"], 3) )    \n",
    "#output += \" & \" + key \n",
    "\n",
    "#    print(to_append1)\n",
    "#    print(to_append2)\n",
    "#    print(to_append3)\n",
    "\n",
    "    output += to_append1 + to_append2 + to_append3 + \" \" + \"\\\\ \" + \"\\\\hline \"\n",
    "#        print(index)\n",
    "\n",
    "output"
   ]
  },
  {
   "cell_type": "markdown",
   "id": "8a76f24a-f7f3-41f6-b8f6-6d69e64e09d1",
   "metadata": {},
   "source": [
    "## Question 2"
   ]
  },
  {
   "cell_type": "code",
   "execution_count": 31,
   "id": "35f064f4-29bf-4e92-a1d0-4d2222d80eb3",
   "metadata": {},
   "outputs": [
    {
     "name": "stdout",
     "output_type": "stream",
     "text": [
      "cell volume [cm^-3] 7.642914703804713e-22\n",
      "n 18.01120763650302\n",
      "v al [cm^-3] 6.236145193179836e-25\n",
      "v o [cm^-3] 1.1494040321933856e-23\n",
      "v filled [cm^-3] 6.435287416472145e-22\n",
      "APV 0.8419938813746803\n"
     ]
    }
   ],
   "source": [
    "# finding packing fraction \n",
    "## crystal parameters\n",
    "a = 0.4759e-7 # cm\n",
    "c = 1.2989e-7 # cm\n",
    "\n",
    "## radii from Table 12.3\n",
    "r_al = 0.053e-7 # Al\n",
    "r_o = 0.140e-7 # O\n",
    "\n",
    "## densities\n",
    "rho = 3.99 # g/cc\n",
    "\n",
    "m_al = 26.98 # g/mol\n",
    "m_o = 16 # g/mol\n",
    "\n",
    "## volume of the unit cell\n",
    "v_cell = 3**(3/2) * a**2 * c / 2\n",
    "\n",
    "## eq 12.1\n",
    "n = rho * NA * v_cell / (2 * m_al + 3 * m_o)\n",
    "\n",
    "## volumes\n",
    "v_al = vol_sphere(r_al)\n",
    "v_o = vol_sphere(r_o)\n",
    "v_al2o3 = 2 * v_al + 3 * v_o\n",
    "\n",
    "v_filled = n * v_al2o3\n",
    "\n",
    "print(\"cell volume [cm^-3]\", v_cell)\n",
    "print(\"n\", n)\n",
    "print(\"v al [cm^-3]\", v_al)\n",
    "print(\"v o [cm^-3]\", v_o)\n",
    "print(\"v filled [cm^-3]\", v_filled)\n",
    "print(\"APV\", v_filled / v_cell)"
   ]
  },
  {
   "cell_type": "markdown",
   "id": "5c770b21-dfb6-43a1-9dd7-411c6843460f",
   "metadata": {},
   "source": [
    "## Question 3"
   ]
  },
  {
   "cell_type": "code",
   "execution_count": 33,
   "id": "d169657c-ea78-40d8-8d53-9ac62770b2d4",
   "metadata": {},
   "outputs": [
    {
     "name": "stdout",
     "output_type": "stream",
     "text": [
      "m_lif 25.939403\n",
      "edge length 0.40467088225121983\n"
     ]
    }
   ],
   "source": [
    "rho = 2.6 # g/cc\n",
    "m_lif = m_li + m_f\n",
    "\n",
    "a = (4 * m_lif / NA / rho)**(1/3)\n",
    "\n",
    "print(\"m_lif\", m_lif)\n",
    "print(\"edge length\", a * 1e7)"
   ]
  },
  {
   "cell_type": "code",
   "execution_count": 40,
   "id": "7ebb031a-bf93-48b4-8d81-1443520bcfa8",
   "metadata": {},
   "outputs": [
    {
     "name": "stdout",
     "output_type": "stream",
     "text": [
      "a [cm] : 3.56e-08\n",
      "M bef2 [g/mol] : 47.009006\n",
      "rho [g/cc] : 6.920704631712574\n"
     ]
    }
   ],
   "source": [
    "diag = 4 * r_be + 4 * r_f\n",
    "a = diag / 2\n",
    "\n",
    "m_bef2 = m_be + 2 * m_f\n",
    "\n",
    "rho = 4 * m_bef2 / a**3 / NA\n",
    "\n",
    "print(\"a [cm] :\", a)\n",
    "print(\"M bef2 [g/mol] :\", m_bef2)\n",
    "print(\"rho [g/cc] :\", rho)"
   ]
  },
  {
   "cell_type": "markdown",
   "id": "e58c7f25-9501-468e-8b41-8f548e3d9d00",
   "metadata": {},
   "source": [
    "## Question 4"
   ]
  },
  {
   "cell_type": "code",
   "execution_count": 43,
   "id": "2ebe2633-4b55-4ff3-9a9f-aacb27ce8a81",
   "metadata": {},
   "outputs": [],
   "source": [
    "indices = np.array([[110], [200], [211], [220], [310]])\n",
    "sqrt = []\n",
    "\n",
    "for index in indices:\n",
    "    sqrt.append(la.norm(index))"
   ]
  },
  {
   "cell_type": "code",
   "execution_count": 47,
   "id": "5835effa-773a-4e64-afd4-07ecc40f154d",
   "metadata": {},
   "outputs": [
    {
     "name": "stdout",
     "output_type": "stream",
     "text": [
      "thetas : [20.  29.5 36.5 43.  50.5]\n",
      "s : [1 2 3 4 5]\n",
      "ds [nm] : [0.22542532 0.31314505 0.38885531 0.4522005  0.49959528]\n"
     ]
    }
   ],
   "source": [
    "# wavelength\n",
    "wl = 0.1542 # nm\n",
    "\n",
    "# given thetas\n",
    "thetas = np.radians(np.array([40, 59, 73, 86, 101]) / 2)\n",
    "ns = np.arange(1, 6)\n",
    "\n",
    "# bragg's law\n",
    "ds = ns * wl / 2 / np.sin(thetas)\n",
    "\n",
    "print(\"thetas :\", np.degrees(thetas))\n",
    "print(\"s :\", ns)\n",
    "print(\"ds [nm] :\", ds)"
   ]
  },
  {
   "cell_type": "code",
   "execution_count": 49,
   "id": "c65fd5b6-cf73-49a6-a0dd-95d25674eff4",
   "metadata": {},
   "outputs": [
    {
     "name": "stdout",
     "output_type": "stream",
     "text": [
      "as [nm]: [ 24.79678512  62.62900986  82.04847072  99.48411019 154.87453688]\n",
      "rs [nm]: [10.73732292 13.55957839 11.84267666 10.76947084 13.41252833]\n"
     ]
    }
   ],
   "source": [
    "# eq 3.22\n",
    "asc = ds * sqrt\n",
    "# eq 3.4\n",
    "rs = asc / 4 * np.sqrt(3)\n",
    "\n",
    "print(\"as [nm]:\", asc)\n",
    "print(\"rs [nm]:\", rs / ns)"
   ]
  }
 ],
 "metadata": {
  "kernelspec": {
   "display_name": "Python 3 (ipykernel)",
   "language": "python",
   "name": "python3"
  },
  "language_info": {
   "codemirror_mode": {
    "name": "ipython",
    "version": 3
   },
   "file_extension": ".py",
   "mimetype": "text/x-python",
   "name": "python",
   "nbconvert_exporter": "python",
   "pygments_lexer": "ipython3",
   "version": "3.12.2"
  }
 },
 "nbformat": 4,
 "nbformat_minor": 5
}
