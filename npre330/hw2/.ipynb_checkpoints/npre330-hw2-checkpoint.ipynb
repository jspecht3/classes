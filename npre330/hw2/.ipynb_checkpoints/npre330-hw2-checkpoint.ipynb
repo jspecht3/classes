{
 "cells": [
  {
   "cell_type": "code",
   "execution_count": 2,
   "id": "77bd9cbd-b3c6-4bcb-9577-5c5968b04f6b",
   "metadata": {},
   "outputs": [],
   "source": [
    "import numpy as np\n",
    "import sympy as sy\n",
    "import pandas as pd"
   ]
  },
  {
   "cell_type": "markdown",
   "id": "275505c4-e6ec-4ca6-acfb-3dd7aa892ed5",
   "metadata": {},
   "source": [
    "## Functions"
   ]
  },
  {
   "cell_type": "code",
   "execution_count": 165,
   "id": "6cf46080-9741-4ea2-9b2e-353c366f07b4",
   "metadata": {},
   "outputs": [],
   "source": [
    "def check_cn(ratio):\n",
    "    \"\"\"Checks the ratio of the cation and anion radius and gives the coordination\n",
    "    number based on Table 12.2 in Callister\"\"\"\n",
    "    if (ratio < 0.155): return 2\n",
    "    if (ratio < 0.225): return 3\n",
    "    if (ratio < 0.414): return 4\n",
    "    if (ratio < 0.732): return 6\n",
    "    if (ratio <= 1): return 8\n",
    "    return \"invalid ratio -- cation is \\\"always\\\" smaller than the anion\"\n",
    "\n",
    "def check_ax_structure(cn):\n",
    "    \"\"\"Checks the coordination number of AX compounds and returns the structure name\n",
    "    and the anion packing\"\"\"\n",
    "    if (cn == 4): return (\"Zinc Blende (Sphalerite)\", \"FCC\")\n",
    "    if (cn == 6): return (\"Rock Salt (NaCl)\", \"FCC\")\n",
    "    if (cn == 8): return (\"Cesium Chloride\", \"SC\")\n",
    "    return \"Invalid coordination number\"\n",
    "\n",
    "def vol_sphere(radius): return 4/3 * np.pi * radius**3"
   ]
  },
  {
   "cell_type": "markdown",
   "id": "cd2e648a-b988-4af9-8063-549dbd8cf44f",
   "metadata": {},
   "source": [
    "## Constants"
   ]
  },
  {
   "cell_type": "code",
   "execution_count": 169,
   "id": "3560d4bc-83ff-4e15-a1f6-ef752f9de8af",
   "metadata": {},
   "outputs": [],
   "source": [
    "NA = 6.022e23"
   ]
  },
  {
   "cell_type": "markdown",
   "id": "d2996ac5-2862-4f33-a2cc-59413f3d1fb2",
   "metadata": {
    "jp-MarkdownHeadingCollapsed": true
   },
   "source": [
    "## Question 1"
   ]
  },
  {
   "cell_type": "markdown",
   "id": "cc2e7b4b-c78b-4cd6-b1c2-91374bd120bf",
   "metadata": {},
   "source": [
    "- compound\n",
    "- elemental radii\n",
    "- cation / anion ratio"
   ]
  },
  {
   "cell_type": "code",
   "execution_count": 39,
   "id": "ca5eb21e-e4d0-4b32-8bca-58c793ba6344",
   "metadata": {},
   "outputs": [],
   "source": [
    "# constructing data\n",
    "d1 = {}\n",
    "\n",
    "## inputting ionic radii\n",
    "d1[\"CaO\"] = {\"Ca\": 0.1, \"O\": 0.140}\n",
    "d1[\"MnS\"] = {\"Mn\": 0.067, \"S\": 0.184}\n",
    "d1[\"KBr\"] = {\"K\": 0.138, \"Br\": 0.196}\n",
    "d1[\"CsBr\"] = {\"Cs\": 0.17, \"Br\": 0.196}\n",
    "\n",
    "## finding ratio of cation radius to anion radius \n",
    "for compound in d1:\n",
    "    kc, ka = d1[compound].keys()\n",
    "    \n",
    "    rc = d1[compound][kc]\n",
    "    ra = d1[compound][ka]\n",
    "    \n",
    "    d1[compound][\"ratio\"] = rc / ra\n",
    "\n",
    "## finding coordination number\n",
    "for compound in d1:\n",
    "    cn = check_cn(d1[compound][\"ratio\"])\n",
    "    d1[compound][\"cn\"] = cn\n",
    "\n",
    "    ### finding structure name and anion packing\n",
    "    crystal_type, anion_packing = check_ax_structure(cn)\n",
    "    \n",
    "    d1[compound][\"crystal type\"] = crystal_type\n",
    "    d1[compound][\"anion packing\"] = anion_packing"
   ]
  },
  {
   "cell_type": "code",
   "execution_count": 112,
   "id": "06dff03b-1704-4cb2-8933-405bfe43c784",
   "metadata": {
    "collapsed": true,
    "jupyter": {
     "outputs_hidden": true
    }
   },
   "outputs": [
    {
     "data": {
      "text/plain": [
       "'\\textbf{CaO} & Ca & O & 0.1 & 0.14 & 0.714 & 6 & Rock Salt (NaCl) & FCC \\\\ \\\\hline \\textbf{MnS} & Mn & S & 0.067 & 0.184 & 0.364 & 4 & Zinc Blende (Sphalerite) & FCC \\\\ \\\\hline \\textbf{KBr} & K & Br & 0.138 & 0.196 & 0.704 & 6 & Rock Salt (NaCl) & FCC \\\\ \\\\hline \\textbf{CsBr} & Cs & Br & 0.17 & 0.196 & 0.867 & 8 & Cesium Chloride & SC \\\\ \\\\hline '"
      ]
     },
     "execution_count": 112,
     "metadata": {},
     "output_type": "execute_result"
    }
   ],
   "source": [
    "# outputting to latex format\n",
    "output = \"\"\n",
    "\n",
    "for compound in d1:\n",
    "    output += \"\\textbf{\" + compound + \"}\"\n",
    "\n",
    "    index = 0\n",
    "\n",
    "    to_append1 = \"\"\n",
    "    to_append2 = \"\"\n",
    "    to_append3 = \"\"\n",
    "    \n",
    "    for key in d1[compound]:\n",
    "#        print(key)\n",
    "        if (index == 0 or index == 1):\n",
    "            to_append1 += \" & \" + key\n",
    "            to_append2 += \" & \" + str(d1[compound][key])\n",
    "\n",
    "        \n",
    "        if (index != 0 and index != 1 and index != 2):\n",
    "            try: to_append3 += \" & \" + str(round(d1[compound][key],3))\n",
    "            except: to_append3 += \" & \" + str(d1[compound][key])\n",
    "\n",
    "        index += 1\n",
    "\n",
    "\n",
    "    to_append2 += \" & \" + str(round(d1[compound][\"ratio\"],3))    \n",
    "#output += \" & \" + key \n",
    "\n",
    "#    print(to_append1)\n",
    "#    print(to_append2)\n",
    "#    print(to_append3)\n",
    "\n",
    "    output += to_append1 + to_append2 + to_append3 + \" \\\\ \" + \"\\\\\" + \"hline \"\n",
    "#        print(index)\n",
    "\n",
    "output"
   ]
  },
  {
   "cell_type": "markdown",
   "id": "a9e0352b-ce0d-4bec-86d9-3b14c46b67c2",
   "metadata": {
    "jp-MarkdownHeadingCollapsed": true
   },
   "source": [
    "## Question 2"
   ]
  },
  {
   "cell_type": "code",
   "execution_count": 187,
   "id": "e9ea31e5-549b-4f0c-8f51-c487db522209",
   "metadata": {},
   "outputs": [
    {
     "name": "stdout",
     "output_type": "stream",
     "text": [
      "cell volume [cm^-3] 7.642914703804713e-22\n",
      "n 18.01120763650302\n",
      "v al [cm^-3] 6.236145193179836e-25\n",
      "v o [cm^-3] 1.1494040321933856e-23\n",
      "v filled [cm^-3] 6.435287416472145e-22\n",
      "APV 0.8419938813746803\n"
     ]
    }
   ],
   "source": [
    "# finding packing fraction \n",
    "## crystal parameters\n",
    "a = 0.4759e-7 # cm\n",
    "c = 1.2989e-7 # cm\n",
    "\n",
    "## radii from Table 12.3\n",
    "r_al = 0.053e-7 # Al\n",
    "r_o = 0.140e-7 # O\n",
    "\n",
    "## densities\n",
    "rho = 3.99 # g/cc\n",
    "\n",
    "m_al = 26.98 # g/mol\n",
    "m_o = 16 # g/mol\n",
    "\n",
    "## volume of the unit cell\n",
    "v_cell = 3**(3/2) * a**2 * c / 2\n",
    "\n",
    "## eq 12.1\n",
    "n = rho * NA * v_cell / (2 * m_al + 3 * m_o)\n",
    "\n",
    "## volumes\n",
    "v_al = vol_sphere(r_al)\n",
    "v_o = vol_sphere(r_o)\n",
    "v_al2o3 = 2 * v_al + 3 * v_o\n",
    "\n",
    "v_filled = n * v_al2o3\n",
    "\n",
    "print(\"cell volume [cm^-3]\", v_cell)\n",
    "print(\"n\", n)\n",
    "print(\"v al [cm^-3]\", v_al)\n",
    "print(\"v o [cm^-3]\", v_o)\n",
    "print(\"v filled [cm^-3]\", v_filled)\n",
    "print(\"APV\", v_filled / v_cell)"
   ]
  },
  {
   "cell_type": "markdown",
   "id": "739663b0-3b4c-4304-a233-eee63c698882",
   "metadata": {},
   "source": [
    "## Question 3"
   ]
  },
  {
   "cell_type": "code",
   "execution_count": null,
   "id": "e73bda2f-b5a2-4d8c-9f8c-4e4179e1f47f",
   "metadata": {},
   "outputs": [],
   "source": []
  }
 ],
 "metadata": {
  "kernelspec": {
   "display_name": "Python 3 (ipykernel)",
   "language": "python",
   "name": "python3"
  },
  "language_info": {
   "codemirror_mode": {
    "name": "ipython",
    "version": 3
   },
   "file_extension": ".py",
   "mimetype": "text/x-python",
   "name": "python",
   "nbconvert_exporter": "python",
   "pygments_lexer": "ipython3",
   "version": "3.12.2"
  }
 },
 "nbformat": 4,
 "nbformat_minor": 5
}
