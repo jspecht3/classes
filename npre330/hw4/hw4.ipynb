{
 "cells": [
  {
   "cell_type": "code",
   "execution_count": 82,
   "id": "fa423481-54c8-43e6-823d-1ff3acf1470a",
   "metadata": {},
   "outputs": [],
   "source": [
    "import numpy as np\n",
    "import math\n",
    "import matplotlib.pyplot as plt"
   ]
  },
  {
   "cell_type": "markdown",
   "id": "4295dfb3-fde8-43c8-b359-f2f161982658",
   "metadata": {},
   "source": [
    "## Question 1"
   ]
  },
  {
   "cell_type": "code",
   "execution_count": 48,
   "id": "e1e8fde2-e018-4c29-b393-4c8d86ffaec9",
   "metadata": {},
   "outputs": [
    {
     "name": "stdout",
     "output_type": "stream",
     "text": [
      "m e-4: 9.31910778991208\n"
     ]
    },
    {
     "data": {
      "text/plain": [
       "0.931910778991208"
      ]
     },
     "execution_count": 48,
     "metadata": {},
     "output_type": "execute_result"
    }
   ],
   "source": [
    "D = 3.3e-11\n",
    "t = 10 * 3600\n",
    "\n",
    "y = 0.25 / 0.55\n",
    "z = 0.4275\n",
    "#print(y - math.erf(z))\n",
    "\n",
    "x = 2 * z * (D * t)**(1/2)\n",
    "\n",
    "print(\"m e-4:\", x * 1e4)\n",
    "x * 1000"
   ]
  },
  {
   "cell_type": "markdown",
   "id": "ac29d592-60b2-4200-af1a-137135c478aa",
   "metadata": {},
   "source": [
    "## Question 2"
   ]
  },
  {
   "cell_type": "code",
   "execution_count": 61,
   "id": "c7f0f3ad-9715-494b-bb18-63d37efd93ea",
   "metadata": {},
   "outputs": [
    {
     "name": "stdout",
     "output_type": "stream",
     "text": [
      "V: 0.004188790204786391\n",
      "m: 0.014367550402417323\n",
      "mol: 0.0001306140945674302\n",
      "C matrix: 0.031181818181818182\n",
      "C T: 3.118181818181818e-08\n"
     ]
    }
   ],
   "source": [
    "r = .1 # cm\n",
    "rho = 3.43 # g/cc\n",
    "M = 110 # g/mol\n",
    "\n",
    "V = 4 / 3 * np.pi * r**3 # cc\n",
    "m = rho * V # g\n",
    "mol = m / M\n",
    "\n",
    "c_litio = mol / V # mol/cc\n",
    "c = c_litio * 1e-6\n",
    "\n",
    "print(\"V:\", V)\n",
    "print(\"m:\", m)\n",
    "print(\"mol:\", mol)\n",
    "print(\"C matrix:\", c_litio)\n",
    "print(\"C T:\", c)"
   ]
  },
  {
   "cell_type": "code",
   "execution_count": 79,
   "id": "f8c5cbed-d68f-4790-acbb-73ea361218b9",
   "metadata": {},
   "outputs": [
    {
     "name": "stdout",
     "output_type": "stream",
     "text": [
      "Q: 5.787037037037037e-10\n",
      "A2: 9.648179910213245e-05\n"
     ]
    }
   ],
   "source": [
    "Q = 5e-8 * 1000 # mol/day/cc\n",
    "Q /= (3600 * 24)\n",
    "\n",
    "print(\"Q:\", Q)\n",
    "\n",
    "D = 10e-7 # cm^2/s\n",
    "\n",
    "a2 = c + Q / 6 / D\n",
    "print(\"A2:\", a2)\n",
    "\n",
    "#a2 - Q / 6 / D"
   ]
  },
  {
   "cell_type": "code",
   "execution_count": 93,
   "id": "afbc4a81-3377-478b-a96b-8eba09577e35",
   "metadata": {},
   "outputs": [
    {
     "data": {
      "text/plain": [
       "[<matplotlib.lines.Line2D at 0x723a46c69c10>]"
      ]
     },
     "execution_count": 93,
     "metadata": {},
     "output_type": "execute_result"
    },
    {
     "data": {
      "image/png": "[encoded data removed]",
      "text/plain": [
       "<Figure size 640x480 with 1 Axes>"
      ]
     },
     "metadata": {},
     "output_type": "display_data"
    }
   ],
   "source": [
    "# part b\n",
    "radii = np.linspace(0,1,1000)\n",
    "C = a2 - Q * radii**2 / 6 / D\n",
    "\n",
    "plt.plot(radii, C)"
   ]
  },
  {
   "cell_type": "code",
   "execution_count": 96,
   "id": "b2569bf2-bb0b-4698-b8e5-542ffe6bdb6d",
   "metadata": {},
   "outputs": [
    {
     "data": {
      "text/plain": [
       "2.0943951023931957e-07"
      ]
     },
     "execution_count": 96,
     "metadata": {},
     "output_type": "execute_result"
    }
   ],
   "source": [
    "# part c\n",
    "loss = 5e-5 * V\n",
    "\n",
    "loss"
   ]
  },
  {
   "cell_type": "markdown",
   "id": "102ffff7-158a-4867-a665-7790f56d87b3",
   "metadata": {},
   "source": [
    "## Question 3"
   ]
  },
  {
   "cell_type": "code",
   "execution_count": 111,
   "id": "af621759-4187-46ad-8ef0-5fa4a7fa8b6a",
   "metadata": {},
   "outputs": [
    {
     "data": {
      "text/plain": [
       "2.695565554671508e+21"
      ]
     },
     "execution_count": 111,
     "metadata": {},
     "output_type": "execute_result"
    }
   ],
   "source": [
    "# part a\n",
    "a = 0.36e-7\n",
    "NA = 6.022e23\n",
    "\n",
    "rho = 4 * 63.5 / a**3 / 6.022e23\n",
    "N = NA * rho / 63.5 * 1e6\n",
    "\n",
    "Nv = N * np.exp(-1.3 / 8.62e-5 / (600+273))\n",
    "Nv"
   ]
  },
  {
   "cell_type": "code",
   "execution_count": 113,
   "id": "de6cf5ef-1c93-4d8f-9f6e-b4cb26b0c8d1",
   "metadata": {},
   "outputs": [
    {
     "data": {
      "text/plain": [
       "146.5236554584401"
      ]
     },
     "execution_count": 113,
     "metadata": {},
     "output_type": "execute_result"
    }
   ],
   "source": [
    "# part b\n",
    "a = 0.36e-9\n",
    "lam = a / (2)**(1/2)\n",
    "d0 = 2.5e-5\n",
    "q = 2.1\n",
    "\n",
    "gamma = 6 * d0 / lam**2 / 12 * np.exp(-2.1 / 8.62e-5 / (600+273))\n",
    "gamma"
   ]
  },
  {
   "cell_type": "code",
   "execution_count": 123,
   "id": "51ee31c5-51c7-4fec-a309-da65a36fa4ba",
   "metadata": {},
   "outputs": [
    {
     "data": {
      "text/plain": [
       "1.897026507778783"
      ]
     },
     "execution_count": 123,
     "metadata": {},
     "output_type": "execute_result"
    }
   ],
   "source": [
    "-np.log(gamma / 1.3e13) * 8.62e-5 * (600+273)"
   ]
  }
 ],
 "metadata": {
  "kernelspec": {
   "display_name": "Python 3 (ipykernel)",
   "language": "python",
   "name": "python3"
  },
  "language_info": {
   "codemirror_mode": {
    "name": "ipython",
    "version": 3
   },
   "file_extension": ".py",
   "mimetype": "text/x-python",
   "name": "python",
   "nbconvert_exporter": "python",
   "pygments_lexer": "ipython3",
   "version": "3.12.2"
  }
 },
 "nbformat": 4,
 "nbformat_minor": 5
}
