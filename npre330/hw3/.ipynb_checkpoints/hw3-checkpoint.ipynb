{
 "cells": [
  {
   "cell_type": "code",
   "execution_count": 1,
   "id": "67d68e92-96e2-4494-aef9-92ef0af144d1",
   "metadata": {},
   "outputs": [],
   "source": [
    "import numpy as np"
   ]
  },
  {
   "cell_type": "markdown",
   "id": "009a8398-a0d3-4ef1-8d10-15415dec17c0",
   "metadata": {
    "jp-MarkdownHeadingCollapsed": true
   },
   "source": [
    "## Problem 1"
   ]
  },
  {
   "cell_type": "code",
   "execution_count": 10,
   "id": "30883ad7-7b41-4e64-93fd-e118bdb0d217",
   "metadata": {},
   "outputs": [],
   "source": [
    "a = 285.37e-10 # cm\n",
    "b = 568.95e-10 # cm\n",
    "c = 495.48e-10 # cm\n",
    "\n",
    "R  = 138e-10 # cm\n",
    "n = 4 # atoms per unit cell"
   ]
  },
  {
   "cell_type": "markdown",
   "id": "ce1b25b5-8bc0-4796-98d0-a27ba3151c24",
   "metadata": {},
   "source": [
    "### part a"
   ]
  },
  {
   "cell_type": "code",
   "execution_count": 11,
   "id": "28976c90-9f66-41ec-afc6-94143e8d431d",
   "metadata": {},
   "outputs": [
    {
     "name": "stdout",
     "output_type": "stream",
     "text": [
      "cell: 8.044675784802e-23\n",
      "atom: 1.1008442251073378e-23\n",
      "atoms: 4.403376900429351e-23\n",
      "apf 0.5473653653946141\n"
     ]
    }
   ],
   "source": [
    "v_cell = a * b * c\n",
    "\n",
    "v_atom = 4 / 3 * np.pi * R**3\n",
    "v_atoms = n * v_atom\n",
    "\n",
    "apf = v_atoms / v_cell\n",
    "\n",
    "print(\"cell:\",v_cell)\n",
    "print(\"atom:\",v_atom)\n",
    "print(\"atoms:\",v_atoms)\n",
    "print(\"apf\",apf)"
   ]
  },
  {
   "cell_type": "markdown",
   "id": "f270c704-6de4-4be0-9635-d5ce044cabce",
   "metadata": {},
   "source": [
    "### part b"
   ]
  },
  {
   "cell_type": "code",
   "execution_count": 15,
   "id": "e5ba53eb-dd6c-405c-bd33-43fed6357de4",
   "metadata": {},
   "outputs": [
    {
     "name": "stdout",
     "output_type": "stream",
     "text": [
      "rho [g/cc]: 19.653074246105408\n"
     ]
    }
   ],
   "source": [
    "m_u = 238.02891 # u or g/mol\n",
    "amu_to_g = 1.66054e-24\n",
    "\n",
    "rho = 1/v_cell * m_u  * amu_to_g * n\n",
    "\n",
    "print(\"rho [g/cc]:\",rho)"
   ]
  },
  {
   "cell_type": "markdown",
   "id": "447e8e55-c33b-446c-877a-b082a2b31282",
   "metadata": {
    "jp-MarkdownHeadingCollapsed": true
   },
   "source": [
    "## Problem 2"
   ]
  },
  {
   "cell_type": "markdown",
   "id": "09f61484-c302-4380-9d98-1ccb4b43aa04",
   "metadata": {},
   "source": [
    "### part a"
   ]
  },
  {
   "cell_type": "code",
   "execution_count": 24,
   "id": "01368e0e-7425-4204-aae0-c38b0549feee",
   "metadata": {},
   "outputs": [
    {
     "name": "stdout",
     "output_type": "stream",
     "text": [
      "peaks : [1 2 3]\n",
      "theta: [ 9.135 12.98  15.96 ]\n",
      "sin^2: [0.02520512 0.05045007 0.07560641]\n",
      "sin^2, norm: [1.         2.00157982 2.99964461]\n"
     ]
    }
   ],
   "source": [
    "peaks = np.array([1,2,3])\n",
    "theta = np.array([18.27,25.96,31.92]) / 2\n",
    "\n",
    "sin_sqrd = np.sin(np.radians(theta))**2\n",
    "sin_sqrd_norm = sin_sqrd / sin_sqrd[0]\n",
    "\n",
    "\n",
    "print(\"peaks :\", peaks)\n",
    "print(\"theta:\", theta)\n",
    "print(\"sin^2:\", sin_sqrd)\n",
    "print(\"sin^2, norm:\", sin_sqrd_norm)"
   ]
  },
  {
   "cell_type": "markdown",
   "id": "63f1abe7-9dca-4318-b1e2-1a8551f3f50c",
   "metadata": {},
   "source": [
    "### part c"
   ]
  },
  {
   "cell_type": "code",
   "execution_count": 30,
   "id": "5ca896ae-bec1-487b-afcf-c5c393de3e9b",
   "metadata": {},
   "outputs": [
    {
     "name": "stdout",
     "output_type": "stream",
     "text": [
      "R [nm] 0.13712316424707624\n"
     ]
    },
    {
     "data": {
      "text/plain": [
       "2.0"
      ]
     },
     "execution_count": 30,
     "metadata": {},
     "output_type": "execute_result"
    }
   ],
   "source": [
    "wl = 0.0711\n",
    "\n",
    "R = wl * 2**(1/2) * 3**(1/2) / 8 / np.sin(np.radians(theta[0]))\n",
    "\n",
    "print(\"R [nm]\",R)\n",
    "\n",
    "4 * np.cos(np.pi / 4) * np.sin(np.pi / 4)"
   ]
  },
  {
   "cell_type": "markdown",
   "id": "c014971d-2943-4bcd-af55-f9382097125c",
   "metadata": {},
   "source": [
    "## Problem 4"
   ]
  },
  {
   "cell_type": "code",
   "execution_count": 45,
   "id": "99ba59ec-c403-412e-8c10-229a6ff54e7c",
   "metadata": {},
   "outputs": [
    {
     "name": "stdout",
     "output_type": "stream",
     "text": [
      "N 5.697809040121888e+28\n",
      "NV 3.519282457335342e+24\n"
     ]
    },
    {
     "data": {
      "text/plain": [
       "1.4494897427831779"
      ]
     },
     "execution_count": 45,
     "metadata": {},
     "output_type": "execute_result"
    }
   ],
   "source": [
    "qv = 0.98 # ev / atom\n",
    "rho = 18.63 # g/cc\n",
    "M = 196.9 # g/mol\n",
    "NA = 6.022e23\n",
    "\n",
    "# number density in 1/m^3\n",
    "N = NA * rho * 10**6 / M\n",
    "print(\"N\", N)\n",
    "\n",
    "# vacancy density\n",
    "k = 8.62e-5\n",
    "T = 1173\n",
    "\n",
    "NV = N * np.exp(-qv / k / T)\n",
    "print(\"NV\",NV)\n",
    "\n",
    "6**.5 - 1"
   ]
  }
 ],
 "metadata": {
  "kernelspec": {
   "display_name": "Python 3 (ipykernel)",
   "language": "python",
   "name": "python3"
  },
  "language_info": {
   "codemirror_mode": {
    "name": "ipython",
    "version": 3
   },
   "file_extension": ".py",
   "mimetype": "text/x-python",
   "name": "python",
   "nbconvert_exporter": "python",
   "pygments_lexer": "ipython3",
   "version": "3.12.2"
  }
 },
 "nbformat": 4,
 "nbformat_minor": 5
}
