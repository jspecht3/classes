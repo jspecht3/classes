{
 "cells": [
  {
   "cell_type": "code",
   "execution_count": 74,
   "id": "9ab4b975-ceb2-4898-b4b9-91624177286f",
   "metadata": {},
   "outputs": [],
   "source": [
    "import numpy as np\n",
    "import matplotlib.pyplot as plt\n",
    "import warnings\n",
    "warnings.filterwarnings(\"ignore\")"
   ]
  },
  {
   "cell_type": "markdown",
   "id": "5ecc2613-c4f4-448c-b698-b9aab74dcf12",
   "metadata": {},
   "source": [
    "## importing data"
   ]
  },
  {
   "cell_type": "code",
   "execution_count": 45,
   "id": "1c2f3aca-0c3a-42d5-9641-93c6745e4b27",
   "metadata": {},
   "outputs": [],
   "source": [
    "data = {}\n",
    "\n",
    "for ref in [\"cuso4\", \"Fe\", \"Al\"]: data[ref] = {}\n",
    "\n",
    "for mat in [\"Cu\", \"Fe\", \"Mg\", \"Zn\", \"Sn\", \"Al\"]: data[\"cuso4\"][mat] = {}\n",
    "for mat in [\"Cu\", \"Mg\", \"Zn\", \"Sn\"]: data[\"Fe\"][mat] = {}\n",
    "for mat in [\"Cu\", \"Mg\", \"Zn\", \"Sn\"]: data[\"Al\"][mat] = {}\n",
    "\n",
    "for ref in data:\n",
    "    for mat in data[ref]:\n",
    "        for soln in [\"water\", \"saline\"]:\n",
    "            if ref == \"cuso4\" and soln == \"saline\": break\n",
    "            data[ref][mat][soln] = {}\n",
    "            for measure in ['v', 'ma']:\n",
    "                if ref == \"cuso4\" and measure == \"ma\": break\n",
    "                data[ref][mat][soln][measure] = np.nan\n",
    "\n",
    "data[\"cuso4\"][\"Cu\"][\"water\"][\"v\"] = np.mean([-0.28, -0.010,])\n",
    "data[\"cuso4\"][\"Fe\"][\"water\"][\"v\"] = np.mean([-0.36, -.435,])\n",
    "data[\"cuso4\"][\"Mg\"][\"water\"][\"v\"] = np.mean([-1.57, -1.44,])\n",
    "data[\"cuso4\"][\"Zn\"][\"water\"][\"v\"] = np.mean([-0.979, -1.448])\n",
    "data[\"cuso4\"][\"Sn\"][\"water\"][\"v\"] = np.mean([-0.338, -.234])\n",
    "data[\"cuso4\"][\"Al\"][\"water\"][\"v\"] = np.mean([-0.535, -0.808])\n",
    "\n",
    "\n",
    "data[\"Fe\"][\"Cu\"][\"water\"][\"v\"] = np.mean([0.33,])\n",
    "data[\"Fe\"][\"Cu\"][\"water\"][\"ma\"] = np.mean([0.41,])\n",
    "data[\"Fe\"][\"Cu\"][\"saline\"][\"v\"] = np.mean([0.38,])\n",
    "data[\"Fe\"][\"Cu\"][\"saline\"][\"ma\"] = np.mean([2.28,])\n",
    "\n",
    "data[\"Fe\"][\"Mg\"][\"water\"][\"v\"] = np.mean([-1.03,])\n",
    "data[\"Fe\"][\"Mg\"][\"water\"][\"ma\"] = np.mean([-2.63,])\n",
    "data[\"Fe\"][\"Mg\"][\"saline\"][\"v\"] = np.mean([-0.85,])\n",
    "data[\"Fe\"][\"Mg\"][\"saline\"][\"ma\"] = np.mean([-67.2])\n",
    "\n",
    "data[\"Fe\"][\"Zn\"][\"water\"][\"v\"] = np.mean([-0.605,])\n",
    "data[\"Fe\"][\"Zn\"][\"water\"][\"ma\"] = np.mean([-1.93,])\n",
    "data[\"Fe\"][\"Zn\"][\"saline\"][\"v\"] = np.mean([-0.578,])\n",
    "data[\"Fe\"][\"Zn\"][\"saline\"][\"ma\"] = np.mean([-10.69])\n",
    "\n",
    "data[\"Fe\"][\"Sn\"][\"water\"][\"v\"] = np.mean([0.166,])\n",
    "data[\"Fe\"][\"Sn\"][\"water\"][\"ma\"] = np.mean([0.01,])\n",
    "data[\"Fe\"][\"Sn\"][\"saline\"][\"v\"] = np.mean([0.57,])\n",
    "data[\"Fe\"][\"Sn\"][\"saline\"][\"ma\"] = np.mean([0.17,])\n",
    "\n",
    "\n",
    "data[\"Al\"][\"Cu\"][\"water\"][\"v\"] = np.mean([0.455,])\n",
    "data[\"Al\"][\"Cu\"][\"water\"][\"ma\"] = np.mean([0.36,])\n",
    "data[\"Al\"][\"Cu\"][\"saline\"][\"v\"] = np.mean([0.490,])\n",
    "data[\"Al\"][\"Cu\"][\"saline\"][\"ma\"] = np.mean([4.42,])\n",
    "\n",
    "data[\"Al\"][\"Mg\"][\"water\"][\"v\"] = np.mean([-1.125,])\n",
    "data[\"Al\"][\"Mg\"][\"water\"][\"ma\"] = np.mean([-0.86,])\n",
    "data[\"Al\"][\"Mg\"][\"saline\"][\"v\"] = np.mean([-0.888,])\n",
    "data[\"Al\"][\"Mg\"][\"saline\"][\"ma\"] = np.mean([-8.90,])\n",
    "\n",
    "data[\"Al\"][\"Zn\"][\"water\"][\"v\"] = np.mean([-1.181])\n",
    "data[\"Al\"][\"Zn\"][\"water\"][\"ma\"] = np.mean([-0.822])\n",
    "data[\"Al\"][\"Zn\"][\"saline\"][\"v\"] = np.mean([-0.509])\n",
    "data[\"Al\"][\"Zn\"][\"saline\"][\"ma\"] = np.mean([-3.84])\n",
    "\n",
    "data[\"Al\"][\"Sn\"][\"water\"][\"v\"] = np.mean([0.631,])\n",
    "data[\"Al\"][\"Sn\"][\"water\"][\"ma\"] = np.mean([0.105,])\n",
    "data[\"Al\"][\"Sn\"][\"saline\"][\"v\"] = np.mean([0.560,])\n",
    "data[\"Al\"][\"Sn\"][\"saline\"][\"ma\"] = np.mean([1.176,])"
   ]
  },
  {
   "cell_type": "markdown",
   "id": "58e71d26-aa2e-4df1-a3ab-6f9ea4bb9da1",
   "metadata": {},
   "source": [
    "## question 2"
   ]
  },
  {
   "cell_type": "code",
   "execution_count": 119,
   "id": "2d2af2f0-588f-4635-86c1-b71058b247f0",
   "metadata": {},
   "outputs": [
    {
     "name": "stdout",
     "output_type": "stream",
     "text": [
      "CuSO4 & 0 \\\\ \\hline\n",
      "Cu & -0.145 \\\\ \\hline\n",
      "Sn & -0.286 \\\\ \\hline\n",
      "Fe & -0.3975 \\\\ \\hline\n",
      "Al & -0.6715 \\\\ \\hline\n",
      "Zn & -1.2135 \\\\ \\hline\n",
      "Mg & -1.505 \\\\ \\hline\n"
     ]
    },
    {
     "data": {
      "image/png": "[encoded data removed]",
      "text/plain": [
       "<Figure size 150x500 with 1 Axes>"
      ]
     },
     "metadata": {},
     "output_type": "display_data"
    }
   ],
   "source": [
    "data[\"cuso4\"][mat][\"water\"][\"v\"]\n",
    "\n",
    "volts = [0]\n",
    "mats = [\"CuSO4\"]\n",
    "\n",
    "plt.figure(figsize=(1.5,5))\n",
    "for mat in data[\"cuso4\"]:\n",
    "    volt = data[\"cuso4\"][mat][\"water\"][\"v\"]\n",
    "\n",
    "    volts.append(volt)\n",
    "    mats.append(mat)\n",
    "\n",
    "colors = [\"green\", \"lime\", \"cyan\", \"blue\", \"purple\", \"red\", \"darkred\"]\n",
    "\n",
    "for rank,color in zip(reversed(np.argsort(volts)), colors):\n",
    "    volt = volts[rank]\n",
    "    mat = mats[rank]\n",
    "    plt.axhline(volt, label=f\"{mat} : $\\Delta$V = {round(volt,3)} V\", c=color)\n",
    "    print(f\"{mat} & {round(volt,5)} \\\\\\\\ \\\\hline\")\n",
    "\n",
    "plt.xticks([])\n",
    "plt.ylabel(\"$\\Delta$V from CuSO$_4$ Reference\")\n",
    "plt.legend(loc=(1.1,0.6), framealpha=1)\n",
    "plt.savefig(\"plots/q2.png\", dpi=600)"
   ]
  },
  {
   "cell_type": "markdown",
   "id": "03fa1112-1b47-49f6-a48d-c61ca09db381",
   "metadata": {},
   "source": [
    "## question 3"
   ]
  },
  {
   "cell_type": "code",
   "execution_count": 156,
   "id": "59739257-8143-4c3d-bfb3-08650adb11da",
   "metadata": {},
   "outputs": [
    {
     "name": "stdout",
     "output_type": "stream",
     "text": [
      "\\multirow\\{4}\\{*}{f Fe}} & \\ & Cu* & 0.33 & 0.41 & 0.38 & 2.28\n",
      "\\ & Mg & -1.03 & -2.63 & -0.85 & -67.2\n",
      "\\ & Zn & -0.605 & -1.93 & -0.578 & -10.69\n",
      "\\ & Sn* & 0.166 & 0.01 & 0.57 & 0.17\n",
      "\n",
      "\\multirow\\{4}\\{*}{f Al}} & \\ & Cu* & 0.455 & 0.36 & 0.49 & 4.42\n",
      "\\ & Mg & -1.125 & -0.86 & -0.888 & -8.9\n",
      "\\ & Zn & -1.181 & -0.822 & -0.509 & -3.84\n",
      "\\ & Sn* & 0.631 & 0.105 & 0.56 & 1.176\n",
      "\n"
     ]
    }
   ],
   "source": [
    "for ref in [\"Fe\", \"Al\"]:\n",
    "    out = \"\\multirow\\{4}\\{*}{{\\bf \" + f\"{ref}\" + \"}} & \"\n",
    "    for mat in data[ref]:\n",
    "        v_water = data[ref][mat]['water']['v']\n",
    "        a_water = data[ref][mat]['water']['ma']\n",
    "\n",
    "        v_saline = data[ref][mat]['saline']['v']\n",
    "        a_saline = data[ref][mat]['saline']['ma']\n",
    "\n",
    "        if v_water > 0:\n",
    "            mat = f\"{mat}*\"\n",
    "\n",
    "        to_append = \"\\ & \" + f\"{mat} & {v_water} & {a_water} & {v_saline} & {a_saline}\" + \"\" + f\"\\n\"\n",
    "        \n",
    "        if mat == \"Cu\": out += to_append[4:]\n",
    "        if mat != \"Cu\": out += to_append\n",
    "\n",
    "    print(out)"
   ]
  }
 ],
 "metadata": {
  "kernelspec": {
   "display_name": "Python 3 (ipykernel)",
   "language": "python",
   "name": "python3"
  },
  "language_info": {
   "codemirror_mode": {
    "name": "ipython",
    "version": 3
   },
   "file_extension": ".py",
   "mimetype": "text/x-python",
   "name": "python",
   "nbconvert_exporter": "python",
   "pygments_lexer": "ipython3",
   "version": "3.12.2"
  }
 },
 "nbformat": 4,
 "nbformat_minor": 5
}
